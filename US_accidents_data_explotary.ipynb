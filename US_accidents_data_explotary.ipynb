{
 "cells": [
  {
   "cell_type": "code",
   "execution_count": 1,
   "metadata": {},
   "outputs": [
    {
     "name": "stdout",
     "output_type": "stream",
     "text": [
      "Note: you may need to restart the kernel to use updated packages.\n"
     ]
    }
   ],
   "source": [
    "pip install opendatasets --upgrade --quiet"
   ]
  },
  {
   "cell_type": "code",
   "execution_count": 2,
   "metadata": {},
   "outputs": [
    {
     "name": "stdout",
     "output_type": "stream",
     "text": [
      "Skipping, found downloaded files in \".\\us-accidents\" (use force=True to force download)\n"
     ]
    }
   ],
   "source": [
    "import opendatasets as od\n",
    "\n",
    "download_url = 'https://www.kaggle.com/sobhanmoosavi/us-accidents'\n",
    "\n",
    "od.download(download_url)"
   ]
  },
  {
   "cell_type": "code",
   "execution_count": 3,
   "metadata": {},
   "outputs": [],
   "source": [
    "data_filename = './us-accidents/US_Accidents_Dec20.csv'"
   ]
  },
  {
   "cell_type": "code",
   "execution_count": 4,
   "metadata": {},
   "outputs": [],
   "source": [
    "import numpy as np\n",
    "import pandas as pd\n",
    "import matplotlib.pyplot as plt\n",
    "import seaborn as sns"
   ]
  },
  {
   "cell_type": "code",
   "execution_count": 5,
   "metadata": {},
   "outputs": [],
   "source": [
    "df = pd.read_csv(r'C:\\Users\\muchi\\Downloads\\US_Accidents_Dec21_updated.csv')"
   ]
  },
  {
   "cell_type": "code",
   "execution_count": 6,
   "metadata": {},
   "outputs": [
    {
     "data": {
      "text/html": [
       "<div>\n",
       "<style scoped>\n",
       "    .dataframe tbody tr th:only-of-type {\n",
       "        vertical-align: middle;\n",
       "    }\n",
       "\n",
       "    .dataframe tbody tr th {\n",
       "        vertical-align: top;\n",
       "    }\n",
       "\n",
       "    .dataframe thead th {\n",
       "        text-align: right;\n",
       "    }\n",
       "</style>\n",
       "<table border=\"1\" class=\"dataframe\">\n",
       "  <thead>\n",
       "    <tr style=\"text-align: right;\">\n",
       "      <th></th>\n",
       "      <th>ID</th>\n",
       "      <th>Severity</th>\n",
       "      <th>Start_Time</th>\n",
       "      <th>End_Time</th>\n",
       "      <th>Start_Lat</th>\n",
       "      <th>Start_Lng</th>\n",
       "      <th>End_Lat</th>\n",
       "      <th>End_Lng</th>\n",
       "      <th>Distance(mi)</th>\n",
       "      <th>Description</th>\n",
       "      <th>...</th>\n",
       "      <th>Roundabout</th>\n",
       "      <th>Station</th>\n",
       "      <th>Stop</th>\n",
       "      <th>Traffic_Calming</th>\n",
       "      <th>Traffic_Signal</th>\n",
       "      <th>Turning_Loop</th>\n",
       "      <th>Sunrise_Sunset</th>\n",
       "      <th>Civil_Twilight</th>\n",
       "      <th>Nautical_Twilight</th>\n",
       "      <th>Astronomical_Twilight</th>\n",
       "    </tr>\n",
       "  </thead>\n",
       "  <tbody>\n",
       "    <tr>\n",
       "      <th>0</th>\n",
       "      <td>A-1</td>\n",
       "      <td>3</td>\n",
       "      <td>2016-02-08 00:37:08</td>\n",
       "      <td>2016-02-08 06:37:08</td>\n",
       "      <td>40.108910</td>\n",
       "      <td>-83.092860</td>\n",
       "      <td>40.112060</td>\n",
       "      <td>-83.031870</td>\n",
       "      <td>3.230</td>\n",
       "      <td>Between Sawmill Rd/Exit 20 and OH-315/Olentang...</td>\n",
       "      <td>...</td>\n",
       "      <td>False</td>\n",
       "      <td>False</td>\n",
       "      <td>False</td>\n",
       "      <td>False</td>\n",
       "      <td>False</td>\n",
       "      <td>False</td>\n",
       "      <td>Night</td>\n",
       "      <td>Night</td>\n",
       "      <td>Night</td>\n",
       "      <td>Night</td>\n",
       "    </tr>\n",
       "    <tr>\n",
       "      <th>1</th>\n",
       "      <td>A-2</td>\n",
       "      <td>2</td>\n",
       "      <td>2016-02-08 05:56:20</td>\n",
       "      <td>2016-02-08 11:56:20</td>\n",
       "      <td>39.865420</td>\n",
       "      <td>-84.062800</td>\n",
       "      <td>39.865010</td>\n",
       "      <td>-84.048730</td>\n",
       "      <td>0.747</td>\n",
       "      <td>At OH-4/OH-235/Exit 41 - Accident.</td>\n",
       "      <td>...</td>\n",
       "      <td>False</td>\n",
       "      <td>False</td>\n",
       "      <td>False</td>\n",
       "      <td>False</td>\n",
       "      <td>False</td>\n",
       "      <td>False</td>\n",
       "      <td>Night</td>\n",
       "      <td>Night</td>\n",
       "      <td>Night</td>\n",
       "      <td>Night</td>\n",
       "    </tr>\n",
       "    <tr>\n",
       "      <th>2</th>\n",
       "      <td>A-3</td>\n",
       "      <td>2</td>\n",
       "      <td>2016-02-08 06:15:39</td>\n",
       "      <td>2016-02-08 12:15:39</td>\n",
       "      <td>39.102660</td>\n",
       "      <td>-84.524680</td>\n",
       "      <td>39.102090</td>\n",
       "      <td>-84.523960</td>\n",
       "      <td>0.055</td>\n",
       "      <td>At I-71/US-50/Exit 1 - Accident.</td>\n",
       "      <td>...</td>\n",
       "      <td>False</td>\n",
       "      <td>False</td>\n",
       "      <td>False</td>\n",
       "      <td>False</td>\n",
       "      <td>False</td>\n",
       "      <td>False</td>\n",
       "      <td>Night</td>\n",
       "      <td>Night</td>\n",
       "      <td>Night</td>\n",
       "      <td>Day</td>\n",
       "    </tr>\n",
       "    <tr>\n",
       "      <th>3</th>\n",
       "      <td>A-4</td>\n",
       "      <td>2</td>\n",
       "      <td>2016-02-08 06:51:45</td>\n",
       "      <td>2016-02-08 12:51:45</td>\n",
       "      <td>41.062130</td>\n",
       "      <td>-81.537840</td>\n",
       "      <td>41.062170</td>\n",
       "      <td>-81.535470</td>\n",
       "      <td>0.123</td>\n",
       "      <td>At Dart Ave/Exit 21 - Accident.</td>\n",
       "      <td>...</td>\n",
       "      <td>False</td>\n",
       "      <td>False</td>\n",
       "      <td>False</td>\n",
       "      <td>False</td>\n",
       "      <td>False</td>\n",
       "      <td>False</td>\n",
       "      <td>Night</td>\n",
       "      <td>Night</td>\n",
       "      <td>Day</td>\n",
       "      <td>Day</td>\n",
       "    </tr>\n",
       "    <tr>\n",
       "      <th>4</th>\n",
       "      <td>A-5</td>\n",
       "      <td>3</td>\n",
       "      <td>2016-02-08 07:53:43</td>\n",
       "      <td>2016-02-08 13:53:43</td>\n",
       "      <td>39.172393</td>\n",
       "      <td>-84.492792</td>\n",
       "      <td>39.170476</td>\n",
       "      <td>-84.501798</td>\n",
       "      <td>0.500</td>\n",
       "      <td>At Mitchell Ave/Exit 6 - Accident.</td>\n",
       "      <td>...</td>\n",
       "      <td>False</td>\n",
       "      <td>False</td>\n",
       "      <td>False</td>\n",
       "      <td>False</td>\n",
       "      <td>False</td>\n",
       "      <td>False</td>\n",
       "      <td>Day</td>\n",
       "      <td>Day</td>\n",
       "      <td>Day</td>\n",
       "      <td>Day</td>\n",
       "    </tr>\n",
       "    <tr>\n",
       "      <th>5</th>\n",
       "      <td>A-6</td>\n",
       "      <td>2</td>\n",
       "      <td>2016-02-08 08:16:57</td>\n",
       "      <td>2016-02-08 14:16:57</td>\n",
       "      <td>39.063240</td>\n",
       "      <td>-84.032430</td>\n",
       "      <td>39.067310</td>\n",
       "      <td>-84.058510</td>\n",
       "      <td>1.427</td>\n",
       "      <td>At Dela Palma Rd - Accident.</td>\n",
       "      <td>...</td>\n",
       "      <td>False</td>\n",
       "      <td>False</td>\n",
       "      <td>False</td>\n",
       "      <td>False</td>\n",
       "      <td>True</td>\n",
       "      <td>False</td>\n",
       "      <td>Day</td>\n",
       "      <td>Day</td>\n",
       "      <td>Day</td>\n",
       "      <td>Day</td>\n",
       "    </tr>\n",
       "    <tr>\n",
       "      <th>6</th>\n",
       "      <td>A-7</td>\n",
       "      <td>2</td>\n",
       "      <td>2016-02-08 08:15:41</td>\n",
       "      <td>2016-02-08 14:15:41</td>\n",
       "      <td>39.775650</td>\n",
       "      <td>-84.186030</td>\n",
       "      <td>39.772750</td>\n",
       "      <td>-84.188050</td>\n",
       "      <td>0.227</td>\n",
       "      <td>At OH-4/Exit 54 - Accident.</td>\n",
       "      <td>...</td>\n",
       "      <td>False</td>\n",
       "      <td>False</td>\n",
       "      <td>False</td>\n",
       "      <td>False</td>\n",
       "      <td>False</td>\n",
       "      <td>False</td>\n",
       "      <td>Day</td>\n",
       "      <td>Day</td>\n",
       "      <td>Day</td>\n",
       "      <td>Day</td>\n",
       "    </tr>\n",
       "    <tr>\n",
       "      <th>7</th>\n",
       "      <td>A-8</td>\n",
       "      <td>2</td>\n",
       "      <td>2016-02-08 11:51:46</td>\n",
       "      <td>2016-02-08 17:51:46</td>\n",
       "      <td>41.375310</td>\n",
       "      <td>-81.820170</td>\n",
       "      <td>41.367860</td>\n",
       "      <td>-81.821740</td>\n",
       "      <td>0.521</td>\n",
       "      <td>At Bagley Rd/Exit 235 - Accident.</td>\n",
       "      <td>...</td>\n",
       "      <td>False</td>\n",
       "      <td>False</td>\n",
       "      <td>False</td>\n",
       "      <td>False</td>\n",
       "      <td>False</td>\n",
       "      <td>False</td>\n",
       "      <td>Day</td>\n",
       "      <td>Day</td>\n",
       "      <td>Day</td>\n",
       "      <td>Day</td>\n",
       "    </tr>\n",
       "    <tr>\n",
       "      <th>8</th>\n",
       "      <td>A-9</td>\n",
       "      <td>2</td>\n",
       "      <td>2016-02-08 14:19:57</td>\n",
       "      <td>2016-02-08 20:19:57</td>\n",
       "      <td>40.702247</td>\n",
       "      <td>-84.075887</td>\n",
       "      <td>40.699110</td>\n",
       "      <td>-84.084293</td>\n",
       "      <td>0.491</td>\n",
       "      <td>At OH-65/Exit 122 - Accident.</td>\n",
       "      <td>...</td>\n",
       "      <td>False</td>\n",
       "      <td>False</td>\n",
       "      <td>False</td>\n",
       "      <td>False</td>\n",
       "      <td>False</td>\n",
       "      <td>False</td>\n",
       "      <td>Day</td>\n",
       "      <td>Day</td>\n",
       "      <td>Day</td>\n",
       "      <td>Day</td>\n",
       "    </tr>\n",
       "    <tr>\n",
       "      <th>9</th>\n",
       "      <td>A-10</td>\n",
       "      <td>2</td>\n",
       "      <td>2016-02-08 15:16:43</td>\n",
       "      <td>2016-02-08 21:16:43</td>\n",
       "      <td>40.109310</td>\n",
       "      <td>-82.968490</td>\n",
       "      <td>40.110780</td>\n",
       "      <td>-82.984000</td>\n",
       "      <td>0.826</td>\n",
       "      <td>At I-71/Exit 26 - Accident.</td>\n",
       "      <td>...</td>\n",
       "      <td>False</td>\n",
       "      <td>False</td>\n",
       "      <td>False</td>\n",
       "      <td>False</td>\n",
       "      <td>False</td>\n",
       "      <td>False</td>\n",
       "      <td>Day</td>\n",
       "      <td>Day</td>\n",
       "      <td>Day</td>\n",
       "      <td>Day</td>\n",
       "    </tr>\n",
       "  </tbody>\n",
       "</table>\n",
       "<p>10 rows × 47 columns</p>\n",
       "</div>"
      ],
      "text/plain": [
       "     ID  Severity           Start_Time             End_Time  Start_Lat  \\\n",
       "0   A-1         3  2016-02-08 00:37:08  2016-02-08 06:37:08  40.108910   \n",
       "1   A-2         2  2016-02-08 05:56:20  2016-02-08 11:56:20  39.865420   \n",
       "2   A-3         2  2016-02-08 06:15:39  2016-02-08 12:15:39  39.102660   \n",
       "3   A-4         2  2016-02-08 06:51:45  2016-02-08 12:51:45  41.062130   \n",
       "4   A-5         3  2016-02-08 07:53:43  2016-02-08 13:53:43  39.172393   \n",
       "5   A-6         2  2016-02-08 08:16:57  2016-02-08 14:16:57  39.063240   \n",
       "6   A-7         2  2016-02-08 08:15:41  2016-02-08 14:15:41  39.775650   \n",
       "7   A-8         2  2016-02-08 11:51:46  2016-02-08 17:51:46  41.375310   \n",
       "8   A-9         2  2016-02-08 14:19:57  2016-02-08 20:19:57  40.702247   \n",
       "9  A-10         2  2016-02-08 15:16:43  2016-02-08 21:16:43  40.109310   \n",
       "\n",
       "   Start_Lng    End_Lat    End_Lng  Distance(mi)  \\\n",
       "0 -83.092860  40.112060 -83.031870         3.230   \n",
       "1 -84.062800  39.865010 -84.048730         0.747   \n",
       "2 -84.524680  39.102090 -84.523960         0.055   \n",
       "3 -81.537840  41.062170 -81.535470         0.123   \n",
       "4 -84.492792  39.170476 -84.501798         0.500   \n",
       "5 -84.032430  39.067310 -84.058510         1.427   \n",
       "6 -84.186030  39.772750 -84.188050         0.227   \n",
       "7 -81.820170  41.367860 -81.821740         0.521   \n",
       "8 -84.075887  40.699110 -84.084293         0.491   \n",
       "9 -82.968490  40.110780 -82.984000         0.826   \n",
       "\n",
       "                                         Description  ...  Roundabout Station  \\\n",
       "0  Between Sawmill Rd/Exit 20 and OH-315/Olentang...  ...       False   False   \n",
       "1                 At OH-4/OH-235/Exit 41 - Accident.  ...       False   False   \n",
       "2                   At I-71/US-50/Exit 1 - Accident.  ...       False   False   \n",
       "3                    At Dart Ave/Exit 21 - Accident.  ...       False   False   \n",
       "4                 At Mitchell Ave/Exit 6 - Accident.  ...       False   False   \n",
       "5                       At Dela Palma Rd - Accident.  ...       False   False   \n",
       "6                        At OH-4/Exit 54 - Accident.  ...       False   False   \n",
       "7                  At Bagley Rd/Exit 235 - Accident.  ...       False   False   \n",
       "8                      At OH-65/Exit 122 - Accident.  ...       False   False   \n",
       "9                        At I-71/Exit 26 - Accident.  ...       False   False   \n",
       "\n",
       "    Stop Traffic_Calming Traffic_Signal Turning_Loop Sunrise_Sunset  \\\n",
       "0  False           False          False        False          Night   \n",
       "1  False           False          False        False          Night   \n",
       "2  False           False          False        False          Night   \n",
       "3  False           False          False        False          Night   \n",
       "4  False           False          False        False            Day   \n",
       "5  False           False           True        False            Day   \n",
       "6  False           False          False        False            Day   \n",
       "7  False           False          False        False            Day   \n",
       "8  False           False          False        False            Day   \n",
       "9  False           False          False        False            Day   \n",
       "\n",
       "  Civil_Twilight Nautical_Twilight Astronomical_Twilight  \n",
       "0          Night             Night                 Night  \n",
       "1          Night             Night                 Night  \n",
       "2          Night             Night                   Day  \n",
       "3          Night               Day                   Day  \n",
       "4            Day               Day                   Day  \n",
       "5            Day               Day                   Day  \n",
       "6            Day               Day                   Day  \n",
       "7            Day               Day                   Day  \n",
       "8            Day               Day                   Day  \n",
       "9            Day               Day                   Day  \n",
       "\n",
       "[10 rows x 47 columns]"
      ]
     },
     "execution_count": 6,
     "metadata": {},
     "output_type": "execute_result"
    }
   ],
   "source": [
    "df.head(10)"
   ]
  },
  {
   "cell_type": "code",
   "execution_count": 7,
   "metadata": {},
   "outputs": [
    {
     "name": "stdout",
     "output_type": "stream",
     "text": [
      "<class 'pandas.core.frame.DataFrame'>\n",
      "RangeIndex: 2845342 entries, 0 to 2845341\n",
      "Data columns (total 47 columns):\n",
      " #   Column                 Dtype  \n",
      "---  ------                 -----  \n",
      " 0   ID                     object \n",
      " 1   Severity               int64  \n",
      " 2   Start_Time             object \n",
      " 3   End_Time               object \n",
      " 4   Start_Lat              float64\n",
      " 5   Start_Lng              float64\n",
      " 6   End_Lat                float64\n",
      " 7   End_Lng                float64\n",
      " 8   Distance(mi)           float64\n",
      " 9   Description            object \n",
      " 10  Number                 float64\n",
      " 11  Street                 object \n",
      " 12  Side                   object \n",
      " 13  City                   object \n",
      " 14  County                 object \n",
      " 15  State                  object \n",
      " 16  Zipcode                object \n",
      " 17  Country                object \n",
      " 18  Timezone               object \n",
      " 19  Airport_Code           object \n",
      " 20  Weather_Timestamp      object \n",
      " 21  Temperature(F)         float64\n",
      " 22  Wind_Chill(F)          float64\n",
      " 23  Humidity(%)            float64\n",
      " 24  Pressure(in)           float64\n",
      " 25  Visibility(mi)         float64\n",
      " 26  Wind_Direction         object \n",
      " 27  Wind_Speed(mph)        float64\n",
      " 28  Precipitation(in)      float64\n",
      " 29  Weather_Condition      object \n",
      " 30  Amenity                bool   \n",
      " 31  Bump                   bool   \n",
      " 32  Crossing               bool   \n",
      " 33  Give_Way               bool   \n",
      " 34  Junction               bool   \n",
      " 35  No_Exit                bool   \n",
      " 36  Railway                bool   \n",
      " 37  Roundabout             bool   \n",
      " 38  Station                bool   \n",
      " 39  Stop                   bool   \n",
      " 40  Traffic_Calming        bool   \n",
      " 41  Traffic_Signal         bool   \n",
      " 42  Turning_Loop           bool   \n",
      " 43  Sunrise_Sunset         object \n",
      " 44  Civil_Twilight         object \n",
      " 45  Nautical_Twilight      object \n",
      " 46  Astronomical_Twilight  object \n",
      "dtypes: bool(13), float64(13), int64(1), object(20)\n",
      "memory usage: 773.4+ MB\n"
     ]
    }
   ],
   "source": [
    "df.info()"
   ]
  },
  {
   "cell_type": "code",
   "execution_count": 8,
   "metadata": {},
   "outputs": [
    {
     "data": {
      "text/html": [
       "<div>\n",
       "<style scoped>\n",
       "    .dataframe tbody tr th:only-of-type {\n",
       "        vertical-align: middle;\n",
       "    }\n",
       "\n",
       "    .dataframe tbody tr th {\n",
       "        vertical-align: top;\n",
       "    }\n",
       "\n",
       "    .dataframe thead th {\n",
       "        text-align: right;\n",
       "    }\n",
       "</style>\n",
       "<table border=\"1\" class=\"dataframe\">\n",
       "  <thead>\n",
       "    <tr style=\"text-align: right;\">\n",
       "      <th></th>\n",
       "      <th>Severity</th>\n",
       "      <th>Start_Lat</th>\n",
       "      <th>Start_Lng</th>\n",
       "      <th>End_Lat</th>\n",
       "      <th>End_Lng</th>\n",
       "      <th>Distance(mi)</th>\n",
       "      <th>Number</th>\n",
       "      <th>Temperature(F)</th>\n",
       "      <th>Wind_Chill(F)</th>\n",
       "      <th>Humidity(%)</th>\n",
       "      <th>Pressure(in)</th>\n",
       "      <th>Visibility(mi)</th>\n",
       "      <th>Wind_Speed(mph)</th>\n",
       "      <th>Precipitation(in)</th>\n",
       "    </tr>\n",
       "  </thead>\n",
       "  <tbody>\n",
       "    <tr>\n",
       "      <th>count</th>\n",
       "      <td>2.845342e+06</td>\n",
       "      <td>2.845342e+06</td>\n",
       "      <td>2.845342e+06</td>\n",
       "      <td>2.845342e+06</td>\n",
       "      <td>2.845342e+06</td>\n",
       "      <td>2.845342e+06</td>\n",
       "      <td>1.101431e+06</td>\n",
       "      <td>2.776068e+06</td>\n",
       "      <td>2.375699e+06</td>\n",
       "      <td>2.772250e+06</td>\n",
       "      <td>2.786142e+06</td>\n",
       "      <td>2.774796e+06</td>\n",
       "      <td>2.687398e+06</td>\n",
       "      <td>2.295884e+06</td>\n",
       "    </tr>\n",
       "    <tr>\n",
       "      <th>mean</th>\n",
       "      <td>2.137572e+00</td>\n",
       "      <td>3.624520e+01</td>\n",
       "      <td>-9.711463e+01</td>\n",
       "      <td>3.624532e+01</td>\n",
       "      <td>-9.711439e+01</td>\n",
       "      <td>7.026779e-01</td>\n",
       "      <td>8.089408e+03</td>\n",
       "      <td>6.179356e+01</td>\n",
       "      <td>5.965823e+01</td>\n",
       "      <td>6.436545e+01</td>\n",
       "      <td>2.947234e+01</td>\n",
       "      <td>9.099391e+00</td>\n",
       "      <td>7.395044e+00</td>\n",
       "      <td>7.016940e-03</td>\n",
       "    </tr>\n",
       "    <tr>\n",
       "      <th>std</th>\n",
       "      <td>4.787216e-01</td>\n",
       "      <td>5.363797e+00</td>\n",
       "      <td>1.831782e+01</td>\n",
       "      <td>5.363873e+00</td>\n",
       "      <td>1.831763e+01</td>\n",
       "      <td>1.560361e+00</td>\n",
       "      <td>1.836009e+04</td>\n",
       "      <td>1.862263e+01</td>\n",
       "      <td>2.116097e+01</td>\n",
       "      <td>2.287457e+01</td>\n",
       "      <td>1.045286e+00</td>\n",
       "      <td>2.717546e+00</td>\n",
       "      <td>5.527454e+00</td>\n",
       "      <td>9.348831e-02</td>\n",
       "    </tr>\n",
       "    <tr>\n",
       "      <th>min</th>\n",
       "      <td>1.000000e+00</td>\n",
       "      <td>2.456603e+01</td>\n",
       "      <td>-1.245481e+02</td>\n",
       "      <td>2.456601e+01</td>\n",
       "      <td>-1.245457e+02</td>\n",
       "      <td>0.000000e+00</td>\n",
       "      <td>0.000000e+00</td>\n",
       "      <td>-8.900000e+01</td>\n",
       "      <td>-8.900000e+01</td>\n",
       "      <td>1.000000e+00</td>\n",
       "      <td>0.000000e+00</td>\n",
       "      <td>0.000000e+00</td>\n",
       "      <td>0.000000e+00</td>\n",
       "      <td>0.000000e+00</td>\n",
       "    </tr>\n",
       "    <tr>\n",
       "      <th>25%</th>\n",
       "      <td>2.000000e+00</td>\n",
       "      <td>3.344517e+01</td>\n",
       "      <td>-1.180331e+02</td>\n",
       "      <td>3.344628e+01</td>\n",
       "      <td>-1.180333e+02</td>\n",
       "      <td>5.200000e-02</td>\n",
       "      <td>1.270000e+03</td>\n",
       "      <td>5.000000e+01</td>\n",
       "      <td>4.600000e+01</td>\n",
       "      <td>4.800000e+01</td>\n",
       "      <td>2.931000e+01</td>\n",
       "      <td>1.000000e+01</td>\n",
       "      <td>3.500000e+00</td>\n",
       "      <td>0.000000e+00</td>\n",
       "    </tr>\n",
       "    <tr>\n",
       "      <th>50%</th>\n",
       "      <td>2.000000e+00</td>\n",
       "      <td>3.609861e+01</td>\n",
       "      <td>-9.241808e+01</td>\n",
       "      <td>3.609799e+01</td>\n",
       "      <td>-9.241772e+01</td>\n",
       "      <td>2.440000e-01</td>\n",
       "      <td>4.007000e+03</td>\n",
       "      <td>6.400000e+01</td>\n",
       "      <td>6.300000e+01</td>\n",
       "      <td>6.700000e+01</td>\n",
       "      <td>2.982000e+01</td>\n",
       "      <td>1.000000e+01</td>\n",
       "      <td>7.000000e+00</td>\n",
       "      <td>0.000000e+00</td>\n",
       "    </tr>\n",
       "    <tr>\n",
       "      <th>75%</th>\n",
       "      <td>2.000000e+00</td>\n",
       "      <td>4.016024e+01</td>\n",
       "      <td>-8.037243e+01</td>\n",
       "      <td>4.016105e+01</td>\n",
       "      <td>-8.037338e+01</td>\n",
       "      <td>7.640000e-01</td>\n",
       "      <td>9.567000e+03</td>\n",
       "      <td>7.600000e+01</td>\n",
       "      <td>7.600000e+01</td>\n",
       "      <td>8.300000e+01</td>\n",
       "      <td>3.001000e+01</td>\n",
       "      <td>1.000000e+01</td>\n",
       "      <td>1.000000e+01</td>\n",
       "      <td>0.000000e+00</td>\n",
       "    </tr>\n",
       "    <tr>\n",
       "      <th>max</th>\n",
       "      <td>4.000000e+00</td>\n",
       "      <td>4.900058e+01</td>\n",
       "      <td>-6.711317e+01</td>\n",
       "      <td>4.907500e+01</td>\n",
       "      <td>-6.710924e+01</td>\n",
       "      <td>1.551860e+02</td>\n",
       "      <td>9.999997e+06</td>\n",
       "      <td>1.960000e+02</td>\n",
       "      <td>1.960000e+02</td>\n",
       "      <td>1.000000e+02</td>\n",
       "      <td>5.890000e+01</td>\n",
       "      <td>1.400000e+02</td>\n",
       "      <td>1.087000e+03</td>\n",
       "      <td>2.400000e+01</td>\n",
       "    </tr>\n",
       "  </tbody>\n",
       "</table>\n",
       "</div>"
      ],
      "text/plain": [
       "           Severity     Start_Lat     Start_Lng       End_Lat       End_Lng  \\\n",
       "count  2.845342e+06  2.845342e+06  2.845342e+06  2.845342e+06  2.845342e+06   \n",
       "mean   2.137572e+00  3.624520e+01 -9.711463e+01  3.624532e+01 -9.711439e+01   \n",
       "std    4.787216e-01  5.363797e+00  1.831782e+01  5.363873e+00  1.831763e+01   \n",
       "min    1.000000e+00  2.456603e+01 -1.245481e+02  2.456601e+01 -1.245457e+02   \n",
       "25%    2.000000e+00  3.344517e+01 -1.180331e+02  3.344628e+01 -1.180333e+02   \n",
       "50%    2.000000e+00  3.609861e+01 -9.241808e+01  3.609799e+01 -9.241772e+01   \n",
       "75%    2.000000e+00  4.016024e+01 -8.037243e+01  4.016105e+01 -8.037338e+01   \n",
       "max    4.000000e+00  4.900058e+01 -6.711317e+01  4.907500e+01 -6.710924e+01   \n",
       "\n",
       "       Distance(mi)        Number  Temperature(F)  Wind_Chill(F)  \\\n",
       "count  2.845342e+06  1.101431e+06    2.776068e+06   2.375699e+06   \n",
       "mean   7.026779e-01  8.089408e+03    6.179356e+01   5.965823e+01   \n",
       "std    1.560361e+00  1.836009e+04    1.862263e+01   2.116097e+01   \n",
       "min    0.000000e+00  0.000000e+00   -8.900000e+01  -8.900000e+01   \n",
       "25%    5.200000e-02  1.270000e+03    5.000000e+01   4.600000e+01   \n",
       "50%    2.440000e-01  4.007000e+03    6.400000e+01   6.300000e+01   \n",
       "75%    7.640000e-01  9.567000e+03    7.600000e+01   7.600000e+01   \n",
       "max    1.551860e+02  9.999997e+06    1.960000e+02   1.960000e+02   \n",
       "\n",
       "        Humidity(%)  Pressure(in)  Visibility(mi)  Wind_Speed(mph)  \\\n",
       "count  2.772250e+06  2.786142e+06    2.774796e+06     2.687398e+06   \n",
       "mean   6.436545e+01  2.947234e+01    9.099391e+00     7.395044e+00   \n",
       "std    2.287457e+01  1.045286e+00    2.717546e+00     5.527454e+00   \n",
       "min    1.000000e+00  0.000000e+00    0.000000e+00     0.000000e+00   \n",
       "25%    4.800000e+01  2.931000e+01    1.000000e+01     3.500000e+00   \n",
       "50%    6.700000e+01  2.982000e+01    1.000000e+01     7.000000e+00   \n",
       "75%    8.300000e+01  3.001000e+01    1.000000e+01     1.000000e+01   \n",
       "max    1.000000e+02  5.890000e+01    1.400000e+02     1.087000e+03   \n",
       "\n",
       "       Precipitation(in)  \n",
       "count       2.295884e+06  \n",
       "mean        7.016940e-03  \n",
       "std         9.348831e-02  \n",
       "min         0.000000e+00  \n",
       "25%         0.000000e+00  \n",
       "50%         0.000000e+00  \n",
       "75%         0.000000e+00  \n",
       "max         2.400000e+01  "
      ]
     },
     "execution_count": 8,
     "metadata": {},
     "output_type": "execute_result"
    }
   ],
   "source": [
    "df.describe()"
   ]
  },
  {
   "cell_type": "code",
   "execution_count": 9,
   "metadata": {},
   "outputs": [
    {
     "data": {
      "text/plain": [
       "14"
      ]
     },
     "execution_count": 9,
     "metadata": {},
     "output_type": "execute_result"
    }
   ],
   "source": [
    "numerics = ['int16', 'int32', 'int64', 'float16', 'float32', 'float64']\n",
    "\n",
    "numeric_df = df.select_dtypes(include=numerics)\n",
    "len(numeric_df.columns)"
   ]
  },
  {
   "cell_type": "code",
   "execution_count": 10,
   "metadata": {},
   "outputs": [],
   "source": [
    "#Percentage of missing values per column"
   ]
  },
  {
   "cell_type": "code",
   "execution_count": 11,
   "metadata": {},
   "outputs": [
    {
     "data": {
      "text/plain": [
       "Number                   6.129003e-01\n",
       "Precipitation(in)        1.931079e-01\n",
       "Wind_Chill(F)            1.650568e-01\n",
       "Wind_Speed(mph)          5.550967e-02\n",
       "Wind_Direction           2.592834e-02\n",
       "Humidity(%)              2.568830e-02\n",
       "Weather_Condition        2.482514e-02\n",
       "Visibility(mi)           2.479350e-02\n",
       "Temperature(F)           2.434646e-02\n",
       "Pressure(in)             2.080593e-02\n",
       "Weather_Timestamp        1.783125e-02\n",
       "Airport_Code             3.356011e-03\n",
       "Timezone                 1.285961e-03\n",
       "Nautical_Twilight        1.007612e-03\n",
       "Civil_Twilight           1.007612e-03\n",
       "Sunrise_Sunset           1.007612e-03\n",
       "Astronomical_Twilight    1.007612e-03\n",
       "Zipcode                  4.635647e-04\n",
       "City                     4.814887e-05\n",
       "Street                   7.029032e-07\n",
       "Country                  0.000000e+00\n",
       "Junction                 0.000000e+00\n",
       "Start_Time               0.000000e+00\n",
       "End_Time                 0.000000e+00\n",
       "Start_Lat                0.000000e+00\n",
       "Turning_Loop             0.000000e+00\n",
       "Traffic_Signal           0.000000e+00\n",
       "Traffic_Calming          0.000000e+00\n",
       "Stop                     0.000000e+00\n",
       "Station                  0.000000e+00\n",
       "Roundabout               0.000000e+00\n",
       "Railway                  0.000000e+00\n",
       "No_Exit                  0.000000e+00\n",
       "Crossing                 0.000000e+00\n",
       "Give_Way                 0.000000e+00\n",
       "Bump                     0.000000e+00\n",
       "Amenity                  0.000000e+00\n",
       "Start_Lng                0.000000e+00\n",
       "End_Lat                  0.000000e+00\n",
       "End_Lng                  0.000000e+00\n",
       "Distance(mi)             0.000000e+00\n",
       "Description              0.000000e+00\n",
       "Severity                 0.000000e+00\n",
       "Side                     0.000000e+00\n",
       "County                   0.000000e+00\n",
       "State                    0.000000e+00\n",
       "ID                       0.000000e+00\n",
       "dtype: float64"
      ]
     },
     "execution_count": 11,
     "metadata": {},
     "output_type": "execute_result"
    }
   ],
   "source": [
    "missing_percentages = df.isna().sum().sort_values(ascending=False) / len(df)\n",
    "missing_percentages"
   ]
  },
  {
   "cell_type": "code",
   "execution_count": 12,
   "metadata": {},
   "outputs": [
    {
     "data": {
      "text/plain": [
       "pandas.core.series.Series"
      ]
     },
     "execution_count": 12,
     "metadata": {},
     "output_type": "execute_result"
    }
   ],
   "source": [
    "type(missing_percentages)"
   ]
  },
  {
   "cell_type": "code",
   "execution_count": 13,
   "metadata": {},
   "outputs": [
    {
     "data": {
      "text/plain": [
       "<AxesSubplot:>"
      ]
     },
     "execution_count": 13,
     "metadata": {},
     "output_type": "execute_result"
    },
    {
     "data": {
      "image/png": "[encoded data removed]",
      "text/plain": [
       "<Figure size 432x288 with 1 Axes>"
      ]
     },
     "metadata": {
      "needs_background": "light"
     },
     "output_type": "display_data"
    }
   ],
   "source": [
    "missing_percentages[missing_percentages != 0].plot(kind='barh')"
   ]
  },
  {
   "cell_type": "markdown",
   "metadata": {},
   "source": [
    "## Exploratory Analysis and Visualization\n",
    "\n",
    "Columns we'll analyze:\n",
    "\n",
    "1. City\n",
    "2. Start Time\n",
    "3. Start Lat, Start Lng\n",
    "4. Temperature\n",
    "5. Weather Condition"
   ]
  },
  {
   "cell_type": "code",
   "execution_count": 14,
   "metadata": {},
   "outputs": [
    {
     "data": {
      "text/plain": [
       "Index(['ID', 'Severity', 'Start_Time', 'End_Time', 'Start_Lat', 'Start_Lng',\n",
       "       'End_Lat', 'End_Lng', 'Distance(mi)', 'Description', 'Number', 'Street',\n",
       "       'Side', 'City', 'County', 'State', 'Zipcode', 'Country', 'Timezone',\n",
       "       'Airport_Code', 'Weather_Timestamp', 'Temperature(F)', 'Wind_Chill(F)',\n",
       "       'Humidity(%)', 'Pressure(in)', 'Visibility(mi)', 'Wind_Direction',\n",
       "       'Wind_Speed(mph)', 'Precipitation(in)', 'Weather_Condition', 'Amenity',\n",
       "       'Bump', 'Crossing', 'Give_Way', 'Junction', 'No_Exit', 'Railway',\n",
       "       'Roundabout', 'Station', 'Stop', 'Traffic_Calming', 'Traffic_Signal',\n",
       "       'Turning_Loop', 'Sunrise_Sunset', 'Civil_Twilight', 'Nautical_Twilight',\n",
       "       'Astronomical_Twilight'],\n",
       "      dtype='object')"
      ]
     },
     "execution_count": 14,
     "metadata": {},
     "output_type": "execute_result"
    }
   ],
   "source": [
    "df.columns"
   ]
  },
  {
   "cell_type": "markdown",
   "metadata": {},
   "source": [
    "CITY"
   ]
  },
  {
   "cell_type": "code",
   "execution_count": 15,
   "metadata": {},
   "outputs": [
    {
     "data": {
      "text/plain": [
       "0               Dublin\n",
       "1               Dayton\n",
       "2           Cincinnati\n",
       "3                Akron\n",
       "4           Cincinnati\n",
       "              ...     \n",
       "2845337      Riverside\n",
       "2845338      San Diego\n",
       "2845339         Orange\n",
       "2845340    Culver City\n",
       "2845341       Highland\n",
       "Name: City, Length: 2845342, dtype: object"
      ]
     },
     "execution_count": 15,
     "metadata": {},
     "output_type": "execute_result"
    }
   ],
   "source": [
    "#City\n",
    "df.City"
   ]
  },
  {
   "cell_type": "code",
   "execution_count": 16,
   "metadata": {},
   "outputs": [
    {
     "data": {
      "text/plain": [
       "11682"
      ]
     },
     "execution_count": 16,
     "metadata": {},
     "output_type": "execute_result"
    }
   ],
   "source": [
    "cities = df.City.unique()\n",
    "len(cities)"
   ]
  },
  {
   "cell_type": "code",
   "execution_count": 17,
   "metadata": {},
   "outputs": [
    {
     "data": {
      "text/plain": [
       "Miami                           106966\n",
       "Los Angeles                      68956\n",
       "Orlando                          54691\n",
       "Dallas                           41979\n",
       "Houston                          39448\n",
       "                                 ...  \n",
       "Ridgedale                            1\n",
       "Sekiu                                1\n",
       "Wooldridge                           1\n",
       "Bullock                              1\n",
       "American Fork-Pleasant Grove         1\n",
       "Name: City, Length: 11681, dtype: int64"
      ]
     },
     "execution_count": 17,
     "metadata": {},
     "output_type": "execute_result"
    }
   ],
   "source": [
    "cities_by_accident = df.City.value_counts()\n",
    "cities_by_accident"
   ]
  },
  {
   "cell_type": "code",
   "execution_count": 18,
   "metadata": {},
   "outputs": [
    {
     "data": {
      "text/plain": [
       "Miami           106966\n",
       "Los Angeles      68956\n",
       "Orlando          54691\n",
       "Dallas           41979\n",
       "Houston          39448\n",
       "Charlotte        33152\n",
       "Sacramento       32559\n",
       "San Diego        26627\n",
       "Raleigh          22840\n",
       "Minneapolis      22768\n",
       "Portland         20944\n",
       "Nashville        20267\n",
       "Austin           18301\n",
       "Baton Rouge      18182\n",
       "Phoenix          17143\n",
       "Saint Paul       16869\n",
       "New Orleans      16251\n",
       "Atlanta          15622\n",
       "Jacksonville     14967\n",
       "Richmond         14349\n",
       "Name: City, dtype: int64"
      ]
     },
     "execution_count": 18,
     "metadata": {},
     "output_type": "execute_result"
    }
   ],
   "source": [
    "cities_by_accident[:20]"
   ]
  },
  {
   "cell_type": "code",
   "execution_count": 19,
   "metadata": {},
   "outputs": [
    {
     "data": {
      "text/plain": [
       "pandas.core.series.Series"
      ]
     },
     "execution_count": 19,
     "metadata": {},
     "output_type": "execute_result"
    }
   ],
   "source": [
    "type(cities_by_accident)"
   ]
  },
  {
   "cell_type": "code",
   "execution_count": 20,
   "metadata": {},
   "outputs": [
    {
     "data": {
      "text/plain": [
       "<AxesSubplot:>"
      ]
     },
     "execution_count": 20,
     "metadata": {},
     "output_type": "execute_result"
    },
    {
     "data": {
      "image/png": "[encoded data removed]",
      "text/plain": [
       "<Figure size 432x288 with 1 Axes>"
      ]
     },
     "metadata": {
      "needs_background": "light"
     },
     "output_type": "display_data"
    }
   ],
   "source": [
    "cities_by_accident[:20].plot(kind='barh')"
   ]
  },
  {
   "cell_type": "code",
   "execution_count": 21,
   "metadata": {},
   "outputs": [],
   "source": [
    "import seaborn as sns\n",
    "sns.set_style(\"darkgrid\")"
   ]
  },
  {
   "cell_type": "code",
   "execution_count": 22,
   "metadata": {},
   "outputs": [],
   "source": [
    "import seaborn as sns\n",
    "sns.set_style(\"darkgrid\")"
   ]
  },
  {
   "cell_type": "code",
   "execution_count": 23,
   "metadata": {},
   "outputs": [
    {
     "data": {
      "text/plain": [
       "<AxesSubplot:xlabel='City', ylabel='Count'>"
      ]
     },
     "execution_count": 23,
     "metadata": {},
     "output_type": "execute_result"
    },
    {
     "data": {
      "image/png": "[encoded data removed]",
      "text/plain": [
       "<Figure size 432x288 with 1 Axes>"
      ]
     },
     "metadata": {},
     "output_type": "display_data"
    }
   ],
   "source": [
    "sns.histplot(cities_by_accident, log_scale=True)"
   ]
  },
  {
   "cell_type": "code",
   "execution_count": 24,
   "metadata": {},
   "outputs": [
    {
     "data": {
      "text/plain": [
       "Carney                          1\n",
       "Waverly Hall                    1\n",
       "Center Sandwich                 1\n",
       "Glen Flora                      1\n",
       "Sulphur Springs                 1\n",
       "                               ..\n",
       "Ridgedale                       1\n",
       "Sekiu                           1\n",
       "Wooldridge                      1\n",
       "Bullock                         1\n",
       "American Fork-Pleasant Grove    1\n",
       "Name: City, Length: 1110, dtype: int64"
      ]
     },
     "execution_count": 24,
     "metadata": {},
     "output_type": "execute_result"
    }
   ],
   "source": [
    "cities_by_accident[cities_by_accident == 1]"
   ]
  },
  {
   "cell_type": "markdown",
   "metadata": {},
   "source": [
    "START TIME"
   ]
  },
  {
   "cell_type": "code",
   "execution_count": 25,
   "metadata": {},
   "outputs": [
    {
     "data": {
      "text/plain": [
       "0          2016-02-08 00:37:08\n",
       "1          2016-02-08 05:56:20\n",
       "2          2016-02-08 06:15:39\n",
       "3          2016-02-08 06:51:45\n",
       "4          2016-02-08 07:53:43\n",
       "                  ...         \n",
       "2845337    2019-08-23 18:03:25\n",
       "2845338    2019-08-23 19:11:30\n",
       "2845339    2019-08-23 19:00:21\n",
       "2845340    2019-08-23 19:00:21\n",
       "2845341    2019-08-23 18:52:06\n",
       "Name: Start_Time, Length: 2845342, dtype: object"
      ]
     },
     "execution_count": 25,
     "metadata": {},
     "output_type": "execute_result"
    }
   ],
   "source": [
    "df.Start_Time"
   ]
  },
  {
   "cell_type": "code",
   "execution_count": 26,
   "metadata": {},
   "outputs": [],
   "source": [
    "df.Start_Time = pd.to_datetime(df.Start_Time)"
   ]
  },
  {
   "cell_type": "markdown",
   "metadata": {},
   "source": [
    "SHOW PERCENTAGES"
   ]
  },
  {
   "cell_type": "code",
   "execution_count": 27,
   "metadata": {},
   "outputs": [
    {
     "name": "stderr",
     "output_type": "stream",
     "text": [
      "C:\\ProgramData\\Anaconda3\\lib\\site-packages\\seaborn\\distributions.py:2619: FutureWarning: `distplot` is a deprecated function and will be removed in a future version. Please adapt your code to use either `displot` (a figure-level function with similar flexibility) or `histplot` (an axes-level function for histograms).\n",
      "  warnings.warn(msg, FutureWarning)\n"
     ]
    },
    {
     "data": {
      "text/plain": [
       "<AxesSubplot:xlabel='Start_Time'>"
      ]
     },
     "execution_count": 27,
     "metadata": {},
     "output_type": "execute_result"
    },
    {
     "data": {
      "image/png": "[encoded data removed]",
      "text/plain": [
       "<Figure size 432x288 with 1 Axes>"
      ]
     },
     "metadata": {},
     "output_type": "display_data"
    }
   ],
   "source": [
    "sns.distplot(df.Start_Time.dt.hour, bins=24, kde=False, norm_hist=True)"
   ]
  },
  {
   "cell_type": "markdown",
   "metadata": {},
   "source": [
    "- A high percentage of accidents occur between 6 am to 10 am (probably people in a hurry to get to work)\n",
    "- Next higest percentage is 3 pm to 6 pm."
   ]
  },
  {
   "cell_type": "code",
   "execution_count": 28,
   "metadata": {},
   "outputs": [
    {
     "data": {
      "text/plain": [
       "<AxesSubplot:xlabel='Start_Time'>"
      ]
     },
     "execution_count": 28,
     "metadata": {},
     "output_type": "execute_result"
    },
    {
     "data": {
      "image/png": "[encoded data removed]",
      "text/plain": [
       "<Figure size 432x288 with 1 Axes>"
      ]
     },
     "metadata": {},
     "output_type": "display_data"
    }
   ],
   "source": [
    "sns.distplot(df.Start_Time.dt.dayofweek, bins=7, kde=False, norm_hist=True)"
   ]
  },
  {
   "cell_type": "markdown",
   "metadata": {},
   "source": [
    "Is the distribution of accidents by hour the same on weekends as on weekdays."
   ]
  },
  {
   "cell_type": "code",
   "execution_count": 29,
   "metadata": {},
   "outputs": [
    {
     "data": {
      "text/plain": [
       "<AxesSubplot:xlabel='Start_Time'>"
      ]
     },
     "execution_count": 29,
     "metadata": {},
     "output_type": "execute_result"
    },
    {
     "data": {
      "image/png": "[encoded data removed]",
      "text/plain": [
       "<Figure size 432x288 with 1 Axes>"
      ]
     },
     "metadata": {},
     "output_type": "display_data"
    }
   ],
   "source": [
    "sundays_start_time = df.Start_Time[df.Start_Time.dt.dayofweek == 6]\n",
    "sns.distplot(sundays_start_time.dt.hour, bins=24, kde=False, norm_hist=True)"
   ]
  },
  {
   "cell_type": "code",
   "execution_count": 30,
   "metadata": {},
   "outputs": [
    {
     "data": {
      "text/plain": [
       "<AxesSubplot:xlabel='Start_Time'>"
      ]
     },
     "execution_count": 30,
     "metadata": {},
     "output_type": "execute_result"
    },
    {
     "data": {
      "image/png": "[encoded data removed]",
      "text/plain": [
       "<Figure size 432x288 with 1 Axes>"
      ]
     },
     "metadata": {},
     "output_type": "display_data"
    }
   ],
   "source": [
    "monday_start_time = df.Start_Time[df.Start_Time.dt.dayofweek == 0]\n",
    "sns.distplot(monday_start_time.dt.hour, bins=24, kde=False, norm_hist=True)"
   ]
  },
  {
   "cell_type": "markdown",
   "metadata": {},
   "source": [
    "On Sundays, the peak occurs between 10 am and 3 pm, unlike weekdays"
   ]
  },
  {
   "cell_type": "markdown",
   "metadata": {},
   "source": [
    "Start Latitude & Longitude"
   ]
  },
  {
   "cell_type": "code",
   "execution_count": 31,
   "metadata": {},
   "outputs": [
    {
     "data": {
      "text/plain": [
       "0          40.108910\n",
       "1          39.865420\n",
       "2          39.102660\n",
       "3          41.062130\n",
       "4          39.172393\n",
       "             ...    \n",
       "2845337    34.002480\n",
       "2845338    32.766960\n",
       "2845339    33.775450\n",
       "2845340    33.992460\n",
       "2845341    34.133930\n",
       "Name: Start_Lat, Length: 2845342, dtype: float64"
      ]
     },
     "execution_count": 31,
     "metadata": {},
     "output_type": "execute_result"
    }
   ],
   "source": [
    "df.Start_Lat"
   ]
  },
  {
   "cell_type": "code",
   "execution_count": 32,
   "metadata": {},
   "outputs": [
    {
     "data": {
      "text/plain": [
       "0          -83.092860\n",
       "1          -84.062800\n",
       "2          -84.524680\n",
       "3          -81.537840\n",
       "4          -84.492792\n",
       "              ...    \n",
       "2845337   -117.379360\n",
       "2845338   -117.148060\n",
       "2845339   -117.847790\n",
       "2845340   -118.403020\n",
       "2845341   -117.230920\n",
       "Name: Start_Lng, Length: 2845342, dtype: float64"
      ]
     },
     "execution_count": 32,
     "metadata": {},
     "output_type": "execute_result"
    }
   ],
   "source": [
    "df.Start_Lng"
   ]
  },
  {
   "cell_type": "code",
   "execution_count": 33,
   "metadata": {},
   "outputs": [],
   "source": [
    "sample_df = df.sample(int(0.1 * len(df)))"
   ]
  },
  {
   "cell_type": "code",
   "execution_count": 34,
   "metadata": {},
   "outputs": [
    {
     "data": {
      "text/plain": [
       "<AxesSubplot:xlabel='Start_Lng', ylabel='Start_Lat'>"
      ]
     },
     "execution_count": 34,
     "metadata": {},
     "output_type": "execute_result"
    },
    {
     "data": {
      "image/png": "[encoded data removed]",
      "text/plain": [
       "<Figure size 432x288 with 1 Axes>"
      ]
     },
     "metadata": {},
     "output_type": "display_data"
    }
   ],
   "source": [
    "sns.scatterplot(x=sample_df.Start_Lng, y=sample_df.Start_Lat, size=0.001)"
   ]
  },
  {
   "cell_type": "code",
   "execution_count": 35,
   "metadata": {},
   "outputs": [
    {
     "name": "stdout",
     "output_type": "stream",
     "text": [
      "Requirement already satisfied: folium in c:\\programdata\\anaconda3\\lib\\site-packages (0.12.1.post1)\n",
      "Requirement already satisfied: branca>=0.3.0 in c:\\programdata\\anaconda3\\lib\\site-packages (from folium) (0.5.0)\n",
      "Requirement already satisfied: jinja2>=2.9 in c:\\programdata\\anaconda3\\lib\\site-packages (from folium) (2.11.3)\n",
      "Requirement already satisfied: requests in c:\\programdata\\anaconda3\\lib\\site-packages (from folium) (2.26.0)\n",
      "Requirement already satisfied: numpy in c:\\programdata\\anaconda3\\lib\\site-packages (from folium) (1.20.3)\n",
      "Requirement already satisfied: MarkupSafe>=0.23 in c:\\programdata\\anaconda3\\lib\\site-packages (from jinja2>=2.9->folium) (1.1.1)\n",
      "Requirement already satisfied: urllib3<1.27,>=1.21.1 in c:\\programdata\\anaconda3\\lib\\site-packages (from requests->folium) (1.26.7)\n",
      "Requirement already satisfied: idna<4,>=2.5 in c:\\programdata\\anaconda3\\lib\\site-packages (from requests->folium) (3.2)\n",
      "Requirement already satisfied: charset-normalizer~=2.0.0 in c:\\programdata\\anaconda3\\lib\\site-packages (from requests->folium) (2.0.4)\n",
      "Requirement already satisfied: certifi>=2017.4.17 in c:\\programdata\\anaconda3\\lib\\site-packages (from requests->folium) (2021.10.8)\n",
      "Note: you may need to restart the kernel to use updated packages.\n"
     ]
    }
   ],
   "source": [
    "pip install folium"
   ]
  },
  {
   "cell_type": "code",
   "execution_count": 36,
   "metadata": {},
   "outputs": [],
   "source": [
    "import folium"
   ]
  },
  {
   "cell_type": "code",
   "execution_count": 37,
   "metadata": {},
   "outputs": [
    {
     "data": {
      "text/plain": [
       "(40.10891, -83.09286)"
      ]
     },
     "execution_count": 37,
     "metadata": {},
     "output_type": "execute_result"
    }
   ],
   "source": [
    "lat, lon = df.Start_Lat[0], df.Start_Lng[0]\n",
    "lat, lon"
   ]
  },
  {
   "cell_type": "code",
   "execution_count": 38,
   "metadata": {},
   "outputs": [
    {
     "name": "stdout",
     "output_type": "stream",
     "text": [
      "346579     38.479958\n",
      "1716952    38.737681\n",
      "1832877    33.461086\n",
      "1898646    40.800852\n",
      "1020029    36.149352\n",
      "             ...    \n",
      "1156387    35.070155\n",
      "1806211    28.064604\n",
      "866371     36.888688\n",
      "1247672    37.111572\n",
      "227548     37.769391\n",
      "Name: Start_Lat, Length: 100, dtype: float64\n",
      "346579    -121.371817\n",
      "1716952   -120.732369\n",
      "1832877   -112.013805\n",
      "1898646   -111.408977\n",
      "1020029    -86.803447\n",
      "              ...    \n",
      "1156387    -90.025762\n",
      "1806211    -80.695659\n",
      "866371     -76.229120\n",
      "1247672   -122.114342\n",
      "227548    -122.411548\n",
      "Name: Start_Lng, Length: 100, dtype: float64\n"
     ]
    }
   ],
   "source": [
    "for x in df[['Start_Lat', 'Start_Lng']].sample(100).iteritems():\n",
    "    print(x[1])"
   ]
  },
  {
   "cell_type": "code",
   "execution_count": 39,
   "metadata": {},
   "outputs": [
    {
     "data": {
      "text/plain": [
       "<zip at 0x2878f112640>"
      ]
     },
     "execution_count": 39,
     "metadata": {},
     "output_type": "execute_result"
    }
   ],
   "source": [
    "zip(list(df.Start_Lat), list(df.Start_Lng))"
   ]
  },
  {
   "cell_type": "code",
   "execution_count": 40,
   "metadata": {},
   "outputs": [],
   "source": [
    "from folium.plugins import HeatMap"
   ]
  },
  {
   "cell_type": "code",
   "execution_count": 41,
   "metadata": {},
   "outputs": [],
   "source": [
    "sample_df = df.sample(int(0.001 * len(df)))\n",
    "lat_lon_pairs = list(zip(list(sample_df.Start_Lat), list(sample_df.Start_Lng)))"
   ]
  },
  {
   "cell_type": "code",
   "execution_count": 42,
   "metadata": {},
   "outputs": [
    {
     "data": {
      "text/html": [
       "<div style=\"width:100%;\"><div style=\"position:relative;width:100%;height:0;padding-bottom:60%;\"><span style=\"color:#565656\">Make this Notebook Trusted to load map: File -> Trust Notebook</span><iframe srcdoc=\"&lt;!DOCTYPE html&gt;\n",
       "&lt;head&gt;    \n",
       "    &lt;meta http-equiv=&quot;content-type&quot; content=&quot;text/html; charset=UTF-8&quot; /&gt;\n",
       "    \n",
       "        &lt;script&gt;\n",
       "            L_NO_TOUCH = false;\n",
       "            L_DISABLE_3D = false;\n",
       "        &lt;/script&gt;\n",
       "    \n",
       "    &lt;style&gt;html, body {width: 100%;height: 100%;margin: 0;padding: 0;}&lt;/style&gt;\n",
       "    &lt;style&gt;#map {position:absolute;top:0;bottom:0;right:0;left:0;}&lt;/style&gt;\n",
       "    &lt;script src=&quot;https://cdn.jsdelivr.net/npm/leaflet@1.6.0/dist/leaflet.js&quot;&gt;&lt;/script&gt;\n",
       "    &lt;script src=&quot;https://code.jquery.com/jquery-1.12.4.min.js&quot;&gt;&lt;/script&gt;\n",
       "    &lt;script src=&quot;https://maxcdn.bootstrapcdn.com/bootstrap/3.2.0/js/bootstrap.min.js&quot;&gt;&lt;/script&gt;\n",
       "    &lt;script src=&quot;https://cdnjs.cloudflare.com/ajax/libs/Leaflet.awesome-markers/2.0.2/leaflet.awesome-markers.js&quot;&gt;&lt;/script&gt;\n",
       "    &lt;link rel=&quot;stylesheet&quot; href=&quot;https://cdn.jsdelivr.net/npm/leaflet@1.6.0/dist/leaflet.css&quot;/&gt;\n",
       "    &lt;link rel=&quot;stylesheet&quot; href=&quot;https://maxcdn.bootstrapcdn.com/bootstrap/3.2.0/css/bootstrap.min.css&quot;/&gt;\n",
       "    &lt;link rel=&quot;stylesheet&quot; href=&quot;https://maxcdn.bootstrapcdn.com/bootstrap/3.2.0/css/bootstrap-theme.min.css&quot;/&gt;\n",
       "    &lt;link rel=&quot;stylesheet&quot; href=&quot;https://maxcdn.bootstrapcdn.com/font-awesome/4.6.3/css/font-awesome.min.css&quot;/&gt;\n",
       "    &lt;link rel=&quot;stylesheet&quot; href=&quot;https://cdnjs.cloudflare.com/ajax/libs/Leaflet.awesome-markers/2.0.2/leaflet.awesome-markers.css&quot;/&gt;\n",
       "    &lt;link rel=&quot;stylesheet&quot; href=&quot;https://cdn.jsdelivr.net/gh/python-visualization/folium/folium/templates/leaflet.awesome.rotate.min.css&quot;/&gt;\n",
       "    \n",
       "            &lt;meta name=&quot;viewport&quot; content=&quot;width=device-width,\n",
       "                initial-scale=1.0, maximum-scale=1.0, user-scalable=no&quot; /&gt;\n",
       "            &lt;style&gt;\n",
       "                #map_d62061d9b4aad1a34386fc2624cfe32d {\n",
       "                    position: relative;\n",
       "                    width: 100.0%;\n",
       "                    height: 100.0%;\n",
       "                    left: 0.0%;\n",
       "                    top: 0.0%;\n",
       "                }\n",
       "            &lt;/style&gt;\n",
       "        \n",
       "    &lt;script src=&quot;https://cdn.jsdelivr.net/gh/python-visualization/folium@master/folium/templates/leaflet_heat.min.js&quot;&gt;&lt;/script&gt;\n",
       "&lt;/head&gt;\n",
       "&lt;body&gt;    \n",
       "    \n",
       "            &lt;div class=&quot;folium-map&quot; id=&quot;map_d62061d9b4aad1a34386fc2624cfe32d&quot; &gt;&lt;/div&gt;\n",
       "        \n",
       "&lt;/body&gt;\n",
       "&lt;script&gt;    \n",
       "    \n",
       "            var map_d62061d9b4aad1a34386fc2624cfe32d = L.map(\n",
       "                &quot;map_d62061d9b4aad1a34386fc2624cfe32d&quot;,\n",
       "                {\n",
       "                    center: [0, 0],\n",
       "                    crs: L.CRS.EPSG3857,\n",
       "                    zoom: 1,\n",
       "                    zoomControl: true,\n",
       "                    preferCanvas: false,\n",
       "                }\n",
       "            );\n",
       "\n",
       "            \n",
       "\n",
       "        \n",
       "    \n",
       "            var tile_layer_f15de33059398f2376f1ee620fd59114 = L.tileLayer(\n",
       "                &quot;https://{s}.tile.openstreetmap.org/{z}/{x}/{y}.png&quot;,\n",
       "                {&quot;attribution&quot;: &quot;Data by \\u0026copy; \\u003ca href=\\&quot;http://openstreetmap.org\\&quot;\\u003eOpenStreetMap\\u003c/a\\u003e, under \\u003ca href=\\&quot;http://www.openstreetmap.org/copyright\\&quot;\\u003eODbL\\u003c/a\\u003e.&quot;, &quot;detectRetina&quot;: false, &quot;maxNativeZoom&quot;: 18, &quot;maxZoom&quot;: 18, &quot;minZoom&quot;: 0, &quot;noWrap&quot;: false, &quot;opacity&quot;: 1, &quot;subdomains&quot;: &quot;abc&quot;, &quot;tms&quot;: false}\n",
       "            ).addTo(map_d62061d9b4aad1a34386fc2624cfe32d);\n",
       "        \n",
       "    \n",
       "            var heat_map_2082009172d1ccb786b305ac3e65a9e9 = L.heatLayer(\n",
       "                [[38.679825, -121.339391], [37.775731, -121.18863600000002], [38.420556, -121.943405], [44.19236400000001, -121.39370900000002], [38.780531, -120.244313], [30.485011, -84.15788], [27.03531, -82.05759], [34.15053, -118.46828], [25.809056, -80.241633], [36.82753, -76.28471], [25.627116, -80.3418], [37.866753, -122.303642], [33.862306, -118.199285], [42.09756, -124.33828], [39.268524, -121.014676], [44.299846, -93.982747], [47.702227, -122.329921], [28.006974, -82.29690699999998], [43.128421, -77.484047], [34.065928, -117.482324], [39.553281, -74.73680300000002], [40.22993, -76.44073], [37.33219, -122.01766], [37.95591, -122.329974], [41.74518, -87.83939000000002], [30.378407, -86.328988], [45.91737, -119.343754], [42.479724, -71.114924], [33.922604, -118.103694], [32.93987, -96.7461], [30.218837, -97.960731], [37.064473, -121.586939], [32.25069000000001, -110.83034], [40.667915, -75.606967], [38.40649000000001, -120.765714], [44.590601, -117.466994], [39.26804, -76.75665], [39.324544, -120.228794], [38.287437, -121.458773], [39.665762, -121.743696], [32.442375, -93.713485], [32.830145, -117.17886], [28.567595, -81.20780400000002], [42.1505, -88.53499000000002], [36.987356, -121.98793899999998], [35.575732, -120.697377], [38.538549, -90.498795], [34.080859999999994, -118.22254], [33.966882, -118.086184], [39.162685, -77.98078100000002], [30.211268, -97.824755], [39.05088, -94.67926], [32.7945, -96.81459], [35.194187, -119.039269], [35.58011, -97.51527], [25.687893, -80.335616], [39.270024, -119.932092], [34.045233, -118.345642], [32.243437, -110.880875], [40.467524, -78.402322], [33.854496000000005, -117.798483], [33.876672, -118.10832], [33.49726, -117.148665], [41.019215, -73.63011999999998], [38.695636, -121.382795], [41.359819, -95.900967], [39.753941, -84.149297], [45.15324, -122.87871], [29.77735, -95.2754], [30.003544, -90.031617], [39.17689, -84.46653], [46.769388, -92.118269], [45.150993, -122.871093], [36.761229, -121.65878899999998], [33.893625, -118.047021], [25.950008, -80.14885], [34.266963, -118.441298], [32.903599, -86.63457199999998], [42.56289, -123.37215], [33.459881, -111.889454], [40.106525, -76.295168], [28.338919, -81.409591], [35.873225, -84.464682], [33.87611, -118.16531], [47.493479, -120.634796], [39.549724, -74.73140500000002], [34.952582, -82.59953399999998], [44.131811, -123.050726], [36.590907, -119.700428], [36.841857, -76.434288], [44.95553, -93.34741], [25.781563, -80.357844], [37.745942, -122.200952], [27.755752, -82.676675], [25.890378, -80.184467], [30.03330900000001, -97.846525], [28.552989, -81.39331999999997], [33.931020000000004, -118.308197], [35.841729, -78.67896999999998], [40.824449, -73.8726], [33.86217, -118.214094], [33.859320000000004, -117.53662], [33.687789, -111.889767], [36.119845, -119.572028], [35.771069, -78.645783], [26.002114, -80.34209200000002], [45.8292, -119.80172], [33.99025, -117.921027], [38.669668, -77.256982], [25.568736, -80.363155], [40.302388, -76.829081], [39.86471, -83.99986], [44.951233, -93.165327], [40.411673, -111.865721], [39.623564, -77.410923], [39.00701, -77.49295], [35.246661, -80.96206], [45.69392, -121.3218], [33.91304, -118.125405], [36.105752, -95.975715], [35.08202, -106.52898], [44.939185, -93.348712], [39.75358, -75.2765], [35.578484, -105.764403], [32.35259, -90.743831], [39.78432, -105.11509], [37.592709, -121.88177], [33.690827, -117.869067], [33.133081, -117.086523], [39.889724, -75.219347], [34.064687, -118.002465], [34.07244, -118.0693], [35.846744, -78.680328], [35.408606, -119.03113700000002], [41.43575, -81.5002], [37.36995, -121.92629], [43.232805, -77.926662], [29.5334, -95.13508], [40.542281, -75.693057], [34.815384, -92.326709], [39.27081, -123.242569], [34.153157, -118.35806200000002], [39.710909, -74.982794], [25.896137, -80.37899300000002], [40.80737, -74.13991], [32.295753999999995, -95.261853], [29.674942, -95.381805], [39.889651, -86.048644], [32.660279, -117.07606], [41.121495, -112.026047], [32.83679, -96.91745], [33.71976, -117.79508], [27.771409, -82.65803199999998], [30.435767, -91.083713], [32.785708, -96.918495], [33.944103000000005, -118.291895], [37.485025, -77.701143], [28.081129, -81.649671], [33.876804, -118.114281], [41.121032, -73.320349], [34.878844, -81.052646], [39.90483, -86.26959000000002], [40.032538, -86.468056], [25.735642, -80.26213], [37.689746, -122.136754], [41.14435, -75.9631], [47.109375, -92.471567], [39.81491, -75.066131], [26.388605, -80.171006], [38.67106500000001, -121.596023], [35.060902, -80.95685300000002], [33.902734, -117.46374], [33.46989, -112.26857], [39.957547, -79.103923], [33.925255, -118.328408], [25.88336, -80.324], [25.926108, -80.148338], [33.917602, -117.652524], [33.984586, -117.344351], [37.364405, -121.901804], [37.727941, -121.106408], [39.199218, -76.764041], [25.898047, -80.241411], [37.01828, -120.175069], [34.519657, -79.575633], [45.507829, -122.684209], [37.291562, -120.460666], [25.980852, -80.165981], [26.09518, -80.168664], [34.409291, -118.079793], [35.707358, -81.78060500000002], [47.457711, -122.2167], [27.76298, -82.66168], [29.695996, -95.292677], [41.978044, -87.68921999999998], [27.10956, -82.37741], [39.99842, -79.041169], [33.68466, -117.861781], [40.710506, -73.955712], [38.57713, -77.32564], [30.13126, -95.44392], [45.79998, -119.42189], [34.08719, -117.665876], [32.705894, -96.824176], [45.47953, -122.79173], [30.401479, -86.8703], [38.79542100000001, -90.462092], [39.557986, -104.880911], [42.64484, -83.2017], [39.1273, -94.49773], [34.01485, -118.485916], [38.562008, -121.645988], [33.543394, -112.272495], [25.685034, -80.428354], [32.263861, -110.960984], [34.075082, -118.274309], [28.62552100000001, -81.453843], [25.909742, -80.292602], [37.822567, -122.320965], [30.450623, -91.179811], [39.07714, -77.12371999999998], [34.30745, -118.43028], [37.316461, -121.971178], [42.26013, -88.135341], [34.063072, -117.296499], [26.355139, -80.118409], [25.845667, -80.250772], [41.760668, -72.699099], [36.082717, -86.697846], [25.929874, -80.18833000000002], [40.700601, -111.952904], [40.04335, -75.35923100000002], [39.127886, -121.544606], [40.103069, -74.744466], [34.024517, -118.246858], [34.734205, -117.183939], [41.198076, -80.151411], [25.918639, -80.292875], [37.11872, -113.59779], [28.795507, -81.354276], [35.879029, -93.044709], [30.320748, -81.714147], [27.269099, -82.471907], [39.27111, -76.72191], [25.630407, -80.382506], [32.183253, -110.972709], [38.044137, -78.818156], [27.95222, -82.511427], [33.708237, -117.084922], [30.454719, -90.957872], [39.11184, -94.56489], [26.656363, -81.804061], [42.360244, -83.07673], [41.10337, -73.79655], [34.028379, -118.43113], [28.359919, -80.791282], [25.883503, -80.214614], [39.99928, -75.761839], [39.53057800000001, -76.181849], [42.527549, -83.115923], [27.936704, -82.793548], [40.79204, -123.35074], [41.70274000000001, -87.5596], [35.95315499999999, -119.930845], [43.173454, -77.592609], [35.83720200000001, -78.613861], [40.266104, -75.91601], [37.773497, -122.440733], [44.32833, -93.30396], [36.051028, -78.67137199999998], [34.173162, -118.535988], [33.975371, -117.899014], [35.294674, -80.726748], [40.64305, -73.985879], [39.130204, -94.568075], [38.933213, -76.919866], [37.686974, -122.119029], [45.010288, -93.18699], [35.19449, -80.766], [39.17563, -78.052087], [34.159552000000005, -118.462557], [30.438936, -91.187058], [30.427159000000003, -91.169048], [34.211092, -117.130181], [40.59390300000001, -79.97036999999997], [47.120916, -122.553342], [34.040434999999995, -117.1549], [36.35371, -119.42818], [32.925431, -80.082551], [39.64755, -105.18064], [39.922538, -75.04212700000002], [32.732537, -117.154791], [37.404743, -79.895678], [37.73941, -121.59046], [27.763556, -80.55129000000002], [37.55559, -121.91593], [26.26943, -80.1258], [25.642258, -80.334766], [27.403638, -80.388328], [36.845923, -80.859493], [42.358781, -83.07650799999998], [34.059593, -118.455137], [40.402799, -78.3174], [30.40827800000001, -84.159468], [32.805744, -96.838356], [36.149256, -86.861913], [39.081901, -121.541842], [34.06897, -117.37027], [25.769487, -80.341712], [33.427718, -81.88999100000002], [31.262465, -89.338792], [25.928938, -80.134896], [35.89593, -78.50656], [39.914187, -104.98981100000002], [33.010728, -80.23734300000002], [25.652335, -80.41341], [34.099272, -117.540207], [45.62078, -123.40648600000002], [37.926867, -121.426584], [33.177005, -117.351087], [39.95765, -75.160246], [29.94488, -90.090098], [42.273328, -87.991057], [40.359777, -106.77168799999998], [40.082019, -76.35645], [38.95239, -94.539568], [30.865732, -85.357578], [39.960688, -105.235948], [25.883893, -80.243208], [25.889336, -80.15981], [47.60647, -122.32956], [39.63482, -107.099028], [32.464545, -93.843766], [25.963, -80.162032], [46.23506, -123.87196000000002], [41.49502, -81.6813], [39.476698, -119.790962], [33.8764, -118.07711], [42.863585, -73.76654], [30.40896, -91.47627], [38.838879, -94.529189], [45.06694, -93.40077], [34.022858, -117.991191], [42.10909, -73.95767099999998], [38.584459, -121.458804], [38.93256, -104.7964], [27.270415000000003, -82.497665], [29.94557, -97.880987], [29.803623, -95.368392], [32.907968, -96.895304], [34.259379, -118.472319], [25.59872, -80.350075], [35.097033, -81.668823], [28.340025, -81.485323], [45.770062, -119.246603], [42.422265, -82.930613], [27.462482, -82.583449], [34.7697, -118.801871], [35.258462, -80.792594], [42.280958, -87.870529], [26.93961, -80.15177], [34.14632, -118.02777], [44.878121, -93.163302], [40.17786, -80.22244], [40.70076, -73.99001], [40.045284, -76.425265], [26.080333, -80.169001], [34.819990999999995, -118.879703], [32.780770000000004, -96.78397], [27.9302, -82.52431999999997], [28.348965000000003, -82.677068], [40.67876, -75.28931999999998], [25.750508, -80.368004], [44.24082, -121.473573], [37.78667, -122.3902], [25.492657, -80.485603], [37.92396, -121.29333], [42.998976, -75.251515], [27.53295, -82.50915], [47.23915, -122.412031], [25.925602, -80.263287], [34.109773, -117.41315], [39.612037, -78.80623100000003], [41.09509, -73.63303], [37.758153, -121.492105], [34.024486, -117.77343700000002], [27.449890000000003, -82.530499], [26.666913, -81.883012], [34.12053, -117.83568], [40.763601, -73.90270100000002], [25.718018, -80.36704499999998], [39.442194, -76.356042], [33.724855, -117.83571299999998], [45.62143, -118.013625], [33.990728999999995, -117.933101], [32.845988, -117.197196], [33.95189, -118.280028], [30.449668, -86.641954], [35.21707100000001, -80.841288], [38.56515, -121.499309], [47.559757, -122.321349], [32.760679, -96.773976], [29.41944, -98.389144], [39.17665, -94.56266], [28.56681, -81.20779], [33.853539000000005, -81.027893], [28.50153, -81.42578], [40.727936, -74.10110999999998], [34.15285, -118.121318], [40.499049, -74.300826], [47.371619, -92.509442], [40.854159, -73.965693], [30.439361, -91.020071], [37.750774, -122.403164], [39.93512, -75.39499599999998], [29.736839, -95.623846], [38.64123, -121.42444], [30.158678, -97.776016], [33.712990999999995, -117.847545], [32.710459, -117.147747], [42.39953, -70.9946], [25.908955, -80.21898399999998], [45.2367, -123.06567], [26.130734, -80.217908], [29.655, -95.55187], [37.772062, -122.224812], [28.452476, -81.47081800000002], [34.17607, -81.32016], [47.70026, -122.17948], [34.243944, -118.421319], [39.056364, -94.629374], [34.25368, -118.47216], [33.77758, -84.39076], [33.916429, -118.296815], [40.903419, -111.891664], [27.947792, -82.53092600000002], [33.631820000000005, -86.62613], [33.817876, -118.207028], [30.441473, -91.011632], [37.32941, -121.84177], [39.90255, -75.15086], [39.79555, -86.12035], [33.947571, -117.300263], [33.45825, -111.98314], [33.994162, -117.356586], [37.926879, -121.396965], [34.793475, -92.388743], [43.997627, -92.249004], [36.00026, -79.80565], [29.70442, -95.37523], [35.352421, -118.950958], [31.72866, -106.347829], [33.386471, -117.0858], [34.032251, -118.192329], [32.136446, -111.14262], [32.923891999999995, -96.764886], [35.90061400000001, -78.797315], [41.91575, -112.61937], [33.48561, -82.08306999999998], [47.580109, -122.161499], [33.91368, -81.25211800000002], [25.69487, -80.382098], [27.82099, -82.72842], [25.988148, -80.165745], [35.823528, -78.587886], [33.368188, -111.479213], [43.055853000000006, -76.170428], [38.370025, -122.300893], [42.41517, -83.08511999999997], [37.776648, -122.393419], [32.747435, -97.315776], [25.809904, -80.33159], [33.775686, -118.00825], [38.680612, -77.231418], [28.132476, -81.917085], [33.696102, -117.084844], [33.363763, -111.910209], [25.638054, -80.307861], [34.897652, -82.380262], [45.06628, -93.1973], [41.87035, -87.89249000000002], [43.611674, -116.201444], [38.375366, -81.66548], [39.26274, -94.44811], [32.696751, -117.143326], [40.375323, -111.903069], [30.389728, -87.066774], [28.54528, -81.568368], [43.767131, -118.214502], [35.528678, -118.656677], [25.631575, -80.38255799999997], [26.510356, -80.07328000000003], [37.2531, -121.84214], [33.917487, -117.437034], [33.94896, -84.23178], [36.091929, -86.704854], [25.881657, -80.35433499999998], [36.266905, -86.75663399999998], [28.989788, -82.141161], [42.699009, -73.713125], [35.02103, -90.00754], [42.38821, -122.917423], [32.87999600000001, -96.803944], [36.764631, -119.855521], [42.414379, -88.124266], [44.32481, -94.5967], [36.712515, -121.716275], [41.82008, -88.47203], [41.37404, -74.61157], [40.117883, -75.351178], [26.074659, -80.167698], [33.885504, -118.104423], [37.46242, -122.1444], [25.749454, -80.335813], [33.791001, -117.497353], [34.077659000000004, -117.998176], [36.923825, -120.069685], [34.534286, -119.258845], [42.23756, -85.68655], [36.749997, -119.87113], [38.75454000000001, -77.52818], [38.877342, -77.275439], [38.577026, -121.562964], [34.110517, -118.334407], [45.918235, -119.325513], [37.238602, -80.229916], [33.943981, -118.368274], [39.94262, -75.11346999999998], [39.024749, -122.660424], [25.669776, -80.416237], [33.963358, -118.370616], [25.933324, -80.121862], [37.601048, -77.500073], [47.14092, -122.23649], [37.31909, -121.99187], [30.388233000000003, -97.650914], [40.49918, -76.18806], [37.681087, -122.124294], [34.051605, -118.174173], [38.17185, -122.19682], [47.520181, -122.269765], [32.694553000000006, -117.12897], [26.098985, -80.248631], [33.890602, -118.193028], [40.836559, -73.87740699999998], [39.11263, -77.19017], [41.11648, -111.90867], [33.494753, -112.208215], [35.17208, -80.85108000000002], [39.93554, -75.07936099999998], [25.739587, -80.367745], [25.764359, -80.287897], [44.543391, -120.359848], [29.934682, -90.079581], [30.138271000000003, -97.796595], [30.446425, -91.057725], [40.01810800000001, -75.169788], [36.706749, -119.772852], [34.042696, -118.317708], [26.643453000000004, -81.871452], [37.701355, -121.769982], [28.091666, -82.739423], [37.901225, -76.4241], [29.04301, -81.9294], [38.254385, -122.703315], [37.490422, -76.987359], [30.22776, -97.942566], [30.42510900000001, -91.051708], [37.964958, -122.514632], [26.51991, -80.0727], [37.26057, -76.64796], [25.777881, -80.303177], [32.859592, -96.902225], [28.472602, -81.394669], [37.762454, -81.214538], [33.850732, -117.843939], [34.112742, -118.266295], [30.269018, -82.75579300000003], [33.68722, -116.16407], [38.617507, -121.531058], [43.297648, -70.616], [32.973945, -80.637237], [42.67, -123.381], [36.114421, -86.923008], [37.223301, -93.311844], [35.366244, -82.465574], [28.29666, -80.74964], [40.721512, -112.155081], [35.013853999999995, -85.53733100000002], [35.046831, -81.984257], [32.866613, -97.315861], [34.210925, -117.109452], [45.04382, -122.95805], [33.98751, -117.36321], [34.03029, -117.70199], [42.458757, -122.72796], [41.173139, -96.124367], [32.79347, -96.72633], [43.77357, -74.18303], [34.054506, -118.202994], [38.79531400000001, -77.170887], [40.00613, -75.78584000000002], [37.78692, -120.73268], [39.042612, -76.615525], [42.01897, -122.61001], [32.639533, -117.099853], [40.471103, -80.228378], [37.922103, -121.332365], [26.286839, -80.297001], [42.4911, -123.36284], [34.17302, -118.30643], [26.177237, -80.155086], [29.78897000000001, -95.331075], [33.391499, -117.216361], [33.916459, -118.370328], [37.23578, -119.717443], [39.358109000000006, -123.625508], [33.787358000000005, -118.207555], [38.935557, -94.750589], [43.143291, -77.623059], [42.808109, -121.835042], [38.46530300000001, -121.394652], [47.50724, -121.89], [37.606116, -77.479371], [29.588239, -82.92343199999998], [38.915892, -77.21782900000002], [38.387893, -121.934412], [33.99155, -118.170934], [37.609398, -120.979967], [34.031103, -81.104504], [34.036406, -118.153291], [38.7694, -121.24936], [33.804224, -117.506147], [41.86041, -87.97794], [25.924906, -80.278222], [25.701925, -80.344764], [34.76543, -118.79889], [39.53662, -119.80668], [35.295896, -118.980953], [46.548525, -112.678023], [41.597022, -122.340261], [38.93487, -121.097196], [43.01256, -83.68784000000002], [39.741834, -105.30975], [43.21424, -123.26661599999998], [25.746607, -80.368719], [38.984481, -76.581176], [29.74058, -95.36522], [25.979491, -80.1658], [33.555692, -117.672801], [26.272706, -81.74256], [33.869028, -117.75331], [40.83155, -73.95071999999998], [33.873499, -118.247362], [38.878233, -77.267044], [39.01045, -77.1508], [34.11920300000001, -78.978771], [33.604299, -111.891625], [42.13901, -72.02903], [25.8263, -80.323587], [43.221299, -83.774465], [26.676174, -80.074047], [42.872402, -78.851252], [34.030956, -118.030983], [44.572826, -122.915116], [25.928311, -80.196338], [33.907814, -118.067895], [40.132596, -75.329642], [45.075691, -93.052428], [29.233379, -82.11115699999998], [32.87285, -97.31662], [25.579189000000003, -80.36771800000002], [35.171581, -89.904137], [34.177729, -118.163976], [25.764384, -80.33629300000003], [26.548486, -81.852779], [39.120653, -77.874092], [41.9973, -87.71863], [37.420186, -121.914484], [25.627051, -80.386199], [36.157614, -86.759833], [39.933901, -82.852482], [38.918607, -76.947583], [44.897508, -93.232558], [34.018639, -117.539602], [34.0371, -118.2974], [45.581419, -118.584142], [33.82195, -118.20685], [28.421394, -81.400216], [27.337631, -82.513092], [39.719833, -75.42705], [38.65188, -122.93325], [27.05077, -80.2354], [43.751581, -123.12924], [32.3992, -110.96909], [33.80084, -118.20691], [39.767686, -104.995726], [37.175256, -76.551865], [37.320932, -79.257584], [41.86567, -87.619137], [41.90223, -88.08216], [37.05031, -121.590732], [33.847677000000004, -118.272552], [46.628798, -113.080419], [44.950228, -93.103948], [42.35703, -88.06799000000002], [36.787968, -121.611079], [33.86971, -117.04405], [40.73752, -73.85096], [40.232824, -76.926215], [37.377356, -121.94544], [45.50701, -122.71866], [36.139674, -86.801123], [32.793736, -96.814625], [33.661532, -84.355734], [43.111171, -75.236838], [47.502586, -122.196628], [40.30685, -111.72609], [41.04489, -73.56342], [30.04537, -89.960592], [33.531128, -117.168513], [40.29549, -74.35835], [25.809401, -80.31102], [47.65264000000001, -117.41759], [29.976187, -90.062687], [34.068354, -117.387724], [34.02864, -118.21611], [33.711301, -78.91761600000002], [25.747428, -80.341658], [30.38737, -81.55824], [42.48458, -82.91753], [28.611993, -81.206597], [25.6803, -80.316576], [42.31992, -87.8952], [37.04545, -120.160899], [36.118942, -86.809234], [33.531405, -86.800462], [34.129956, -117.68436], [34.119426000000004, -117.770293], [39.224329, -121.14503899999998], [28.54734, -81.253498], [43.1566, -77.60884], [39.060635, -77.155501], [28.441645, -81.467763], [29.339021, -98.562501], [41.84537, -87.63495], [41.76039, -72.6674], [27.937636, -82.268814], [34.200649, -79.768398], [29.72892, -95.37246], [44.090022, -123.159771], [34.152972, -118.279593], [38.868631, -77.047061], [32.334428, -81.095878], [33.649185, -84.369226], [33.752135, -117.455359], [47.706736, -122.180198], [35.33946500000001, -119.011334], [39.055034, -77.084293], [44.89747, -89.62805999999998], [29.96727000000001, -90.10704], [35.31286, -80.84732199999998], [38.966051, -94.723569], [34.630320000000005, -112.36317], [39.63217, -104.90596], [40.231944, -76.940184], [40.901804, -74.11150699999997], [38.568328, -121.467146], [34.048069, -118.266174], [39.01563, -77.04269000000002], [34.719575, -92.269245], [28.59504, -81.38455], [32.312274, -80.977819], [25.869604, -80.195728], [37.698119, -121.940764], [42.33895, -88.00106], [40.16288, -74.10172], [44.93293, -93.07198], [40.9015, -74.13032], [33.928571000000005, -118.289149], [33.305858, -117.227246], [38.700041, -77.21143000000002], [39.23818, -76.7063], [33.862457, -117.715467], [35.680965, -86.88794], [27.770071, -82.335107], [25.692196, -80.316997], [34.567106, -120.367332], [25.924436, -80.30994799999998], [29.488525, -98.582587], [39.71246, -86.06357], [37.085391, -76.45537], [34.033724, -118.436726], [26.887167, -80.13051899999998], [37.718677, -97.393926], [39.819954, -75.417231], [34.017237, -118.239669], [34.29334, -118.846031], [44.7975, -93.28942], [33.82634, -118.21274], [40.60953, -111.93874], [39.012323, -122.561568], [40.665455, -73.99623199999998], [35.1052, -106.604307], [44.998912, -93.20598], [40.649317, -74.199911], [38.883823, -77.151027], [38.134167, -122.476424], [39.750853, -75.555477], [42.906165, -85.64671899999998], [29.9466, -95.41623], [37.5232, -77.40272], [41.101984, -73.993876], [34.710713, -120.179218], [27.821121, -82.700017], [40.015517, -111.744334], [44.953511, -93.089872], [36.85004, -76.195897], [26.839926, -80.130071], [35.91608, -78.9841], [33.75567, -117.85307], [34.004002, -84.194664], [38.900092, -120.936348], [38.776676, -86.913758], [45.443873, -122.777661], [33.998361, -117.354036], [33.858317, -118.093403], [34.0444, -84.30624], [36.167199, -119.090393], [33.808336, -84.393557], [25.94863, -80.35169], [30.028841, -89.983401], [32.4434, -93.720134], [25.718092, -80.31065600000002], [45.233706, -118.444], [38.510465, -121.409026], [32.77088, -96.81423], [38.856074, -77.05212], [39.961101, -75.599274], [38.88251, -77.02645], [36.165252, -86.765221], [44.87524000000001, -93.07141], [30.10561, -95.43435], [44.070371, -122.799291], [39.86587, -75.104878], [28.23302, -81.64965], [45.277897, -123.010942], [34.067667, -117.601082], [33.538469, -112.147381], [30.439049, -91.182242], [37.69937, -121.92906], [38.927613, -77.030602], [30.189764, -81.659467], [45.214631, -93.851305], [33.884661, -118.352382], [30.517541, -87.246605], [35.147848, -80.865424], [40.853658, -73.965014], [29.75805900000001, -95.274856], [29.9023, -97.90382], [33.822571, -118.290336], [41.461078, -87.082257], [42.39143, -83.00622], [34.067440000000005, -117.56762], [36.059447, -80.23159799999998], [43.093878, -77.40963199999999], [34.069534000000004, -80.172477], [33.845974, -118.092254], [33.50339, -117.15281], [29.83360900000001, -95.284449], [32.252468, -110.840998], [37.66392800000001, -121.682629], [39.712863, -75.58856999999998], [33.895958, -117.49733], [34.060749, -118.250533], [42.45072, -82.9178], [41.515233, -72.427199], [39.875453, -75.043773], [34.055686, -118.451951], [34.00104, -117.84169], [45.03564, -92.86292], [34.170861, -118.606231], [33.992459999999994, -118.40302], [41.221493, -122.275238], [32.725921, -117.167354], [45.320635, -122.577524], [35.0805, -89.87484], [38.829755, -77.32396], [41.66724, -87.66288], [35.123087, -119.361144], [33.053626, -117.288905], [25.948502, -80.148765], [39.56227, -104.87172], [34.282033, -118.751944], [33.473528, -117.675279], [32.816340000000004, -83.70845], [33.179893, -80.810684], [41.235737, -73.19081700000002], [28.492772, -81.39675600000002], [36.767007, -76.128206], [34.023441, -117.698082], [45.060612, -123.697545], [36.972555, -121.764509], [34.488871, -120.226276], [31.74187, -106.32262], [35.162882, -80.876029], [33.144441, -117.333429], [30.3682, -81.76082], [25.71537600000001, -80.431229], [32.748109, -97.319051], [32.977802000000004, -117.251725], [26.496127, -81.848485], [39.04856, -94.64327], [40.732294, -74.22124000000002], [37.479941, -121.934361], [35.21160300000001, -80.85963100000002], [33.83937, -118.207431], [32.91519, -96.74126], [44.664276, -92.778484], [33.915801, -118.189285], [34.010187, -117.823503], [37.58683, -77.47638], [34.20742, -118.217351], [37.826521, -122.277336], [34.724127, -78.997474], [33.553497, -112.20351399999998], [33.98495, -118.072375], [44.883345, -117.011228], [45.527333, -122.606359], [25.778655, -80.265325], [26.48028, -81.79320200000002], [33.924686, -118.103969], [37.002671, -76.319907], [39.240635, -121.192677], [38.914655, -76.93269699999998], [38.97084, -78.429938], [39.604602, -84.16104399999998], [39.005856, -77.074016], [37.121853, -76.514864], [43.24813, -84.56336], [28.449912, -81.47993000000002], [33.489113, -112.237769], [40.650283, -73.86828299999998], [26.773177, -80.09649300000002], [37.38858, -122.15762], [39.100597, -77.213202], [34.149159999999995, -118.37314], [42.931278000000006, -85.671779], [34.068301, -117.544752], [35.792441, -78.84716800000002], [33.831736, -118.256083], [32.883387, -96.757714], [37.826281, -122.276319], [28.760614, -81.27038399999998], [41.93916, -73.435125], [32.82633, -96.78401], [33.02538, -80.135191], [41.00598400000001, -77.68847099999998], [29.77556, -95.36771], [29.923029, -90.088805], [44.97401, -93.24918], [45.57678, -121.553978], [34.034393, -117.995415], [33.98934000000001, -118.252084], [37.348604, -77.356765], [39.88165, -122.201336], [44.842974, -93.787979], [44.79701, -123.03297], [33.855112, -117.975293], [30.284697, -91.940574], [41.867485, -122.738452], [38.92855, -119.83905], [35.144866, -90.022562], [34.046746, -118.099257], [33.835947999999995, -117.941554], [25.946256, -80.150275], [37.782148, -121.530841], [37.322492, -122.052029], [40.6088, -111.92541], [26.409679, -80.090131], [36.14011, -86.7233], [39.605287, -78.82095], [41.11077, -111.90948], [39.19577, -104.85322], [45.069512, -93.297454], [35.70135, -78.58109], [42.350253, -83.21625999999998], [33.926443, -118.213861], [47.705068, -122.351398], [40.219517, -79.552042], [28.446205, -81.47085600000003], [46.64427, -93.12438], [30.456128000000003, -84.374083], [41.36527, -81.51599], [39.57517, -76.13218], [36.54425, -119.5928], [34.067751, -117.601874], [38.984481, -76.581176], [29.449631, -98.515566], [40.72567, -112.03362], [35.123333, -85.269768], [30.024488, -89.946391], [40.32507, -74.36098], [36.611252, -119.412941], [28.673785, -81.468053], [37.764172, -118.999217], [38.60642, -121.26978], [34.134722, -117.630758], [25.706182, -80.158784], [34.025768, -118.275323], [36.076735, -80.230509], [38.891741, -77.16609100000002], [41.791466, -72.65540899999998], [36.74657, -119.776541], [30.542493, -91.015349], [25.76266, -80.31809], [30.299445, -81.767323], [38.998815, -77.306862], [45.130001, -93.391674], [40.422141, -79.661816], [40.084006, -122.218628], [35.884461, -78.74119], [40.05185, -74.169977], [40.812026, -74.029348], [36.141299, -86.731852], [39.214121, -121.49423], [33.30616, -111.84159], [33.386469, -111.783101], [30.312041, -97.738548], [42.93919, -85.67864], [34.942115, -77.238659], [25.920791, -80.199688], [25.766452, -80.23895], [41.103565, -74.01419399999997], [42.166088, -123.497345], [37.52466, -121.99233], [33.715963, -117.967246], [34.073594, -80.9948], [33.976632, -118.07928], [42.136836, -122.573203], [33.75383, -84.378529], [42.76246, -71.12226], [28.55319, -81.367511], [26.754401, -80.090149], [33.9501, -84.134], [28.544677000000004, -81.416792], [39.389787, -76.722043], [35.201469, -80.72590799999998], [37.65232, -122.09908], [40.833468, -111.91573], [35.55573, -97.65623], [37.24305, -121.80919], [25.92958, -80.188317], [28.61670100000001, -81.476224], [39.132766, -120.960246], [42.35823, -71.05145], [34.06485900000001, -118.245323], [44.33737, -123.06093], [43.603802, -116.31426100000002], [42.245427, -123.140216], [40.750747, -73.75063], [33.644846, -117.735103], [38.34963, -121.339145], [33.751253000000005, -117.831603], [34.008513, -80.34975899999998], [43.628677, -113.289254], [38.26073, -122.0606], [27.462382, -82.595922], [45.761715, -119.198001], [41.288713, -72.816792], [29.801864, -95.372206], [34.806767, -81.242641], [33.939148, -117.217824], [37.370669, -79.01788], [34.033714, -118.221828], [45.587252, -122.680643], [40.804381, -73.91829399999997], [40.523318, -74.347711], [29.692261, -95.298876], [31.88161400000001, -106.420298], [33.26197, -84.0937], [38.977809, -77.25285], [30.412138, -91.080348], [29.68089, -95.37319], [27.943114, -82.45950500000002], [29.961359, -90.056878], [34.089024, -118.704825], [41.304827, -72.913995], [47.19257, -93.02205], [33.457609000000005, -112.108], [42.152552, -121.867039], [41.035609, -73.754926], [41.32344000000001, -105.61536], [25.669776, -80.416237], [28.350822, -81.61528100000002], [34.4101, -80.99524], [35.807522, -78.693955], [37.40781, -122.19072], [46.027958, -111.390465], [38.653981, -121.382857], [35.77831099999999, -78.61384], [28.357090000000003, -80.699164], [37.376587, -77.511914], [34.101721999999995, -118.310713], [40.242222, -74.085112], [37.698488, -121.941318], [40.222066, -75.343941], [33.741805, -117.83392], [46.35524, -92.573641], [32.752322, -117.105656], [33.88476, -84.46937], [28.73672100000001, -81.919206], [41.549681, -73.060594], [37.464612, -121.17553999999998], [42.32235, -83.215245], [40.39152, -111.83502], [35.205176, -80.869776], [30.800982, -88.240567], [33.945024, -118.094763], [42.45718, -87.8421], [38.76055, -76.078296], [38.101647, -122.56144], [33.646584000000004, -117.742806], [32.726801, -117.156432], [35.413065, -80.67873900000002], [34.148569, -118.697908], [34.015374, -118.493946], [38.656736, -120.998579], [41.352206, -76.911946], [39.079925, -94.490811], [44.86114, -93.15593], [26.427365, -80.090299], [25.769703, -80.335727], [44.918968, -117.944006], [45.06526, -123.7062], [34.042949, -118.272635], [37.550516, -120.909902], [40.119805, -75.247033], [39.8899, -86.04876], [37.444828, -119.653188], [37.712421, -122.169269], [34.2659, -118.472252], [34.076692, -118.219389], [36.356377, -119.394701], [39.09171, -76.75887], [33.656445, -84.497552], [43.97758, -94.520801], [34.147317, -118.227645], [35.89043, -78.561738], [34.053044, -118.228279], [44.84846, -93.5118], [40.429925, -74.30292299999998], [37.7841, -77.89231], [38.43745, -122.71831], [37.736331, -120.230394], [34.329782, -117.48246], [45.37076, -118.2957], [43.04876, -76.15893], [36.90254, -82.313273], [37.725182, -122.401639], [30.196206, -90.12316], [42.25387, -83.68365], [44.55579, -123.06099], [26.31246, -80.11742], [39.875562, -75.103934], [39.23128, -104.87756], [30.825241, -86.62603399999998], [25.811639000000003, -80.25182], [41.866624, -87.916876], [34.00354, -117.93046499999998], [40.091257, -75.12599], [35.24462, -80.96907], [32.784926, -117.207641], [41.537757, -72.761346], [35.757813, -78.640258], [38.837391, -77.446484], [34.000157, -117.550168], [34.739075, -86.599845], [30.158811, -85.738668], [34.119426000000004, -117.770293], [34.032865, -118.181508], [37.20636, -121.71756], [37.554745, -77.485107], [38.673307, -121.031097], [34.571809, -112.276088], [33.891612, -118.265246], [30.477975, -84.067553], [34.259611, -118.438312], [30.137439, -95.296922], [29.709883, -95.526743], [42.912822, -85.65149100000002], [44.890497, -93.286473], [44.88705, -93.33189], [25.809919, -80.334158], [33.355576, -86.851881], [30.89923, -86.495448], [39.16049, -76.71634], [40.97505, -100.29394], [34.161004, -118.469616], [33.553023, -112.112321], [28.9989, -81.30248], [33.981614, -118.24988700000002], [28.085886, -82.45134300000002], [39.04192000000001, -94.67531], [40.090611, -75.272364], [40.6443, -111.92928], [38.298583, -120.705746], [33.774424, -118.032918], [26.936416, -82.332293], [40.00815, -82.91164], [34.40364, -119.52797], [38.67317, -77.242026], [32.791249, -96.684956], [38.569767, -121.510977], [45.40485200000001, -122.744418], [33.84778, -117.81778], [28.551959000000004, -81.364441], [38.072896, -122.229326], [38.89775, -76.061593], [39.869753, -77.03095], [34.135595, -117.40975], [34.067508000000004, -81.142227], [36.944238, -109.710628], [28.066837, -82.738761], [33.7578, -78.96715], [41.263654, -112.026553], [33.876435, -117.54594099999998], [35.75439, -78.64021], [32.783468, -96.768106], [45.50712, -122.775], [33.99426, -117.9009], [30.53096, -87.313226], [25.942515, -80.149339], [34.274522, -79.693526], [27.388807, -82.530884], [40.69465, -73.54139], [29.943079, -90.13402], [43.01192, -71.47789], [37.70201, -121.91683], [38.013414, -122.090753], [25.923164, -80.285112], [28.230344, -80.709384], [25.785679, -80.175601], [25.688176, -80.332065], [40.31879, -75.34299], [33.870401, -117.744465], [39.496688, -85.563364], [38.598151, -121.417752], [40.671325, -73.801063], [39.000817, -77.402203], [40.429687, -77.523266], [45.147103, -122.884944], [34.26603, -118.46], [34.841927, -118.171166], [37.157197, -121.982129], [26.16507, -80.201165], [34.73503, -86.63096], [25.959901, -80.294551], [30.031267, -89.99009699999998], [38.5794, -121.439478], [43.075003, -75.459288], [31.526786, -84.1155], [37.96672, -122.30529], [28.62572, -81.47633], [33.589719, -112.202114], [40.7346, -73.29057], [34.067863, -118.029803], [42.271367, -120.35491299999998], [39.022202, -94.691647], [38.304409, -87.567335], [37.097842, -121.015874], [34.131293, -80.52747099999998], [39.89862, -75.18039], [33.925384, -117.879191], [25.953952, -80.280509], [43.084153, -75.25246], [39.93131500000001, -77.999794], [36.088928, -118.860714], [30.32071, -81.71608], [37.822564, -122.261068], [45.557202, -122.181326], [28.425604, -81.40464300000002], [44.600894, -123.557837], [33.499299, -117.660053], [36.724797, -119.543005], [35.0265, -80.83813], [42.427567, -82.926464], [38.60729600000001, -122.597966], [36.954885, -120.837711], [35.759392, -78.731771], [45.39805, -123.129219], [26.662319, -80.174325], [41.96551, -113.06058], [35.60998, -97.67403], [40.635104, -111.449472], [36.605232, -119.786177], [41.554958, -72.638993], [35.21033, -80.75706], [45.321904, -122.578318], [38.46646, -122.72755], [36.561529, -119.664681], [39.481851, -77.396625], [25.878561, -80.355235], [40.101901, -76.318995], [42.37685, -83.03948000000003], [29.470213, -81.181765], [38.648137, -121.062945], [34.815049, -118.170786], [40.76082, -73.99831999999998], [25.536486, -80.41087399999998], [36.628508, -121.834683], [33.504821, -117.65932], [45.41685, -122.74386], [25.699761, -80.41838], [33.854529, -117.790613], [33.927311, -118.300316], [37.777608, -121.14284], [29.80177, -95.33963], [28.405162, -80.70237900000002], [32.808799, -97.315464], [26.40183, -80.090085], [34.018685, -117.816203], [37.217495, -93.240818], [45.54492, -122.385814], [42.849608, -78.790565], [29.382932, -98.642964], [38.925441, -77.051967], [35.076052000000004, -118.957921], [45.52519, -122.66533], [35.27822000000001, -80.80759], [36.354865, -119.418893], [40.346549, -111.76386200000002], [45.885006, -123.61008], [35.005653, -85.331131], [36.151317, -86.769736], [33.979737, -84.537172], [35.23352, -80.98559], [40.595329, -75.32950699999998], [33.917219, -117.226251], [39.957014, -75.15545], [30.421694, -84.29190799999998], [40.79012, -80.3588], [34.07376, -117.81017], [28.369864, -81.309589], [26.679673, -81.806415], [32.79076, -96.75858], [38.318333, -77.19405400000002], [33.86938, -117.75046], [36.134778, -119.055302], [39.29674, -76.82013], [28.49361, -81.46410999999998], [38.45634, -77.409211], [45.361401, -122.612728], [31.15496, -88.0101], [26.267441, -80.296851], [28.480882, -81.39500799999998], [33.598027, -117.118493], [29.739279, -95.410701], [38.545512, -83.22366], [41.90542, -87.98835], [35.349407, -82.452687], [33.92848, -118.28932], [35.25823, -80.73633000000002], [38.85360900000001, -77.074158], [38.769847, -119.837852], [34.165138, -118.487917], [33.78989, -84.49068], [38.702384, -77.224853], [35.678113, -78.836426], [37.753475, -79.41228000000002], [34.07239000000001, -117.92249], [45.60701, -123.46206], [32.81431, -96.81775], [25.892732, -80.209536], [32.71145, -117.114183], [39.06052, -84.53326], [34.023508, -118.172072], [35.825296, -78.620232], [36.835752, -76.06625600000002], [32.6428, -97.18266], [42.45817, -123.02786], [38.62837, -121.2215], [41.84462, -87.94964], [45.55981, -122.17327], [25.684871, -80.400574], [39.074799, -76.911229], [47.64783900000001, -122.322425], [44.321171, -74.1498], [40.00181, -75.194946], [40.537826, -112.298421], [35.43525800000001, -119.012455], [42.96325, -85.70786], [25.447788, -80.476232], [34.042949, -118.272635], [33.582297, -86.026135], [38.879964, -77.242712], [37.721878, -121.522379], [28.551790000000004, -81.50491], [34.456663, -119.283839], [40.57875, -111.89997], [29.969981, -90.007571], [42.283769, -84.810601], [33.982817, -117.308586], [41.331613, -76.11718499999998], [37.624439, -120.986633], [46.511467, -105.697134], [41.478334, -72.770916], [34.365011, -118.503466], [38.233419, -78.371034], [39.002817, -76.895341], [28.377647, -81.40441], [47.56619, -122.18278], [42.73681, -73.76217], [37.732739, -120.839588], [34.06812, -84.610959], [35.24533800000001, -80.819909], [38.95209000000001, -77.06811400000002], [40.201223, -86.578312], [37.158695, -121.982422], [34.03374, -81.10725], [39.585469, -76.087329], [41.86224, -88.05274], [40.167158, -75.06450500000003], [39.427155, -121.605092], [32.907625, -97.099238], [47.257272, -122.330349], [41.753985, -72.818595], [38.47735, -81.64335], [43.054078, -76.15434], [35.13351, -89.95289], [27.839418, -82.761178], [44.42311, -73.00543], [30.427032, -81.65649499999998], [42.945781, -115.419005], [36.47625900000001, -82.590521], [37.49268, -77.48839], [45.073417, -93.316465], [41.160761, -74.184783], [37.359927, -77.403875], [42.433259, -121.121983], [34.078886, -118.288915], [40.988148, -73.667434], [34.13599, -80.88048], [33.97862, -117.54904], [32.451368, -80.974512], [45.382679, -122.75267], [37.314205, -121.931903], [34.059252, -118.455086], [35.059083, -85.127936], [40.116288, -75.069602], [42.983786, -85.666126], [38.57399, -121.384304], [40.58885, -111.90124], [27.955624, -82.49418399999998], [26.550649, -81.60361400000002], [33.985405, -117.345095], [27.952448, -82.46212299999998], [33.876131, -118.102318], [41.87594, -87.67062], [34.301687, -117.337213], [31.58661, -106.23222], [39.657272, -77.84836899999998], [43.63789000000001, -95.44702], [34.118567, -117.865458], [36.298512, -119.645871], [30.4111, -91.13236], [41.0976, -81.50015], [40.527051, -74.271537], [33.930890999999995, -118.305177], [34.851417, -119.139592], [41.07532, -81.50435999999998], [38.562015, -121.464262], [33.986655, -117.348467], [29.84481, -95.49824], [47.892912, -97.090011], [39.150434, -76.645449], [35.094590000000004, -81.00518000000002], [34.626028000000005, -83.055285], [37.869523, -122.304749], [38.403293, -77.432797], [25.910573, -80.333088], [34.190021, -119.189513], [38.685391, -121.35427], [39.166871, -94.559036], [34.03451, -118.02983], [32.798404999999995, -96.626096], [44.625544, -119.14864], [29.62773300000001, -95.224221], [40.828364, -76.842601], [44.728914, -121.236823], [39.711939, -121.798092], [27.294404, -82.530506], [41.68731, -91.891719], [45.641423, -109.233595], [39.918711, -75.579332], [35.129869, -80.94304100000002], [48.05503, -122.18472], [35.201117, -80.77656999999998], [34.36128, -118.50558], [42.698941, -85.65975], [30.267473, -97.74447], [35.897473, -78.60935500000002], [40.728527, -73.884265], [39.384763, -76.662214], [29.772866, -95.386171], [38.878008, -77.27192], [39.402719, -123.388749], [37.811819, -122.268983], [35.20812, -80.7261], [33.806039, -84.493337], [42.36871, -88.16915], [29.956558, -90.098632], [33.831663, -84.48626999999998], [33.573, -86.717674], [34.077681, -117.430246], [25.947317, -80.151248], [41.444868, -112.056571], [35.276799, -80.896911], [40.866585, -78.173001], [39.51725, -75.57925], [25.909735, -80.29354599999998], [37.764754, -121.388133], [37.54202, -77.45724], [36.771276, -121.66713500000002], [25.808533, -80.260597], [25.899211, -80.191361], [39.16649, -94.39503], [44.312399, -123.291052], [32.878840000000004, -96.6883], [30.465090000000004, -91.165256], [39.097169, -94.570865], [36.278626, -86.734142], [27.4421, -80.39151], [34.03017, -117.68532], [27.97839500000001, -82.45359300000001], [39.098857, -112.039023], [28.333902, -81.589613], [45.547458, -122.545623], [44.994982, -93.089522], [45.312314, -93.558488], [34.06813, -118.02289], [36.935945, -120.599489], [37.458628, -121.92412], [40.170968, -74.641992], [40.01063900000001, -75.207698], [41.223589, -96.003481], [34.153659999999995, -118.34863], [40.854159, -73.965693], [27.4293, -82.5467], [33.940943, -117.2327], [45.062247, -93.159876], [34.031199, -117.328072], [27.7036, -80.89527], [34.156557, -118.422514], [38.40776, -76.95371999999998], [41.88115, -88.06676], [45.19648, -93.02999], [33.382278, -81.83207], [43.689406, -124.141584], [33.569658000000004, -117.67206000000002], [47.590511, -122.29857], [40.375868, -120.525624], [29.967639, -90.081499], [44.905248, -93.81848], [25.700683, -80.379687], [30.609437, -84.744796], [34.030889, -118.217902], [39.44198, -76.356858], [35.78409, -78.70067900000002], [30.192701, -97.777569], [38.97362, -77.33364], [35.207587, -80.757882], [35.65831, -78.71703000000002], [35.217458, -80.780686], [44.96602, -93.26571], [36.320961, -82.838062], [35.98403300000001, -78.893498], [33.153305, -80.62342199999998], [42.422065, -123.027568], [32.70786, -96.82968], [39.912933, -75.091495], [38.929061, -77.21432], [38.794388, -121.723681], [47.641364, -122.376209], [37.01453, -122.034247], [40.657945, -111.50736100000002], [28.788756, -81.273052], [34.983048, -80.91965400000002], [25.83733, -80.32194], [39.18062000000001, -76.78454], [33.88078, -117.61318], [47.645527, -122.629362], [43.24103, -77.64683000000002], [35.128613, -85.246477], [36.141296, -86.73185699999998], [28.59832, -81.71855], [45.12509, -93.38932], [26.211138, -80.136969], [26.357898, -80.170586], [40.7685, -73.90657], [40.43587, -79.9758], [34.080774, -118.221891], [42.1628, -123.64685], [25.884153, -80.35088499999998], [34.28040900000001, -118.455939], [28.30076, -81.57529], [34.68862, -84.46682], [42.0236, -83.35124], [34.226579, -118.387832], [34.06865, -118.042212], [40.786382, -73.794955], [42.267998, -83.167115], [38.728823, -121.363838], [40.835987, -73.9494], [34.607956, -118.258616], [38.478165, -104.972573], [34.035955, -118.369177], [27.366749, -82.544624], [35.170227000000004, -85.25689399999997], [29.806761, -95.263014], [25.685462, -80.415318], [38.891345, -77.217458], [35.108837, -85.281548], [42.98475300000001, -85.68808100000003], [45.50792, -122.72209], [43.585624, -122.002903], [34.274218, -118.450105], [36.157953000000006, -115.16017], [34.067440000000005, -117.579993], [38.988743, -110.198327], [28.450781, -81.477807], [46.528573, -67.90300500000001], [36.779397, -119.655021], [34.15205, -118.12751000000002], [45.344897, -122.767871], [33.465518, -112.224886], [38.83557, -77.456775], [33.407416999999995, -86.973427], [33.71752, -85.02075], [34.321042, -118.496121], [25.73334, -80.30287], [38.802691, -77.09785500000002], [32.913773, -96.869293], [38.651498, -77.28213000000002], [35.202586, -80.758021], [27.96757, -81.87964000000002], [39.019475, -77.044138], [44.97770300000001, -73.45545200000002], [44.95417800000001, -93.089954], [40.515317, -74.365663], [29.737416, -95.623748], [38.931148, -76.896312], [42.220856, -122.74066100000002], [33.866803999999995, -117.711478], [44.13758, -122.613011], [40.867206, -74.04455], [45.455891, -122.57325], [29.613505, -95.423734], [36.067562, -95.96829], [33.445161, -112.037211], [29.945921, -90.087433], [25.735688, -80.335859], [33.960145000000004, -118.237392], [39.706184, -123.310546], [36.09708, -80.01151999999998], [40.664616, -73.845237], [26.527137, -80.072863], [25.68081, -80.389012], [37.92648, -122.052759], [34.889751000000004, -118.911344], [47.713676, -110.391279], [25.779701, -80.316792], [25.812456, -80.136905], [33.057919, -80.170415], [31.192191, -90.484203], [41.66832, -72.827435], [36.604993, -119.592938], [34.874783, -82.11327800000002], [43.034681, -76.05870300000002], [26.002846, -80.167161], [39.07689, -84.51985], [33.68901, -117.91937], [28.261549, -81.619126], [38.472458, -121.418098], [36.157052, -86.79239100000002], [28.843831, -81.310694], [39.460805, -119.784667], [34.0673, -117.54331], [33.98323, -84.34119], [47.230637, -122.45458700000002], [34.040527000000004, -118.186545], [35.118503999999994, -80.881874], [33.957346, -118.087645], [43.837541, -121.422218], [45.06687, -93.44768], [34.150054, -118.468679], [39.178524, -123.725425], [34.012219, -84.304149], [41.70607800000001, -75.670113], [42.27495, -83.676284], [41.871853, -87.82978100000004], [33.991951, -117.931657], [33.148694, -117.334244], [34.154895, -118.468376], [45.396873, -92.993461], [40.200101, -74.591599], [44.89755, -93.27531], [41.936713, -71.468564], [39.945706, -86.016166], [32.923547, -96.758233], [38.74721, -90.59128], [33.325241, -117.15471399999998], [47.425582, -111.424612], [30.602869, -88.149945], [34.083334, -118.47462], [27.8212, -82.63871], [38.890035, -80.627756], [40.61808, -74.45155], [29.51645, -98.45877], [36.111628, -86.72306], [38.43302, -121.39952], [44.05669, -94.39866], [40.68257, -73.57204], [35.124044, -120.592928], [32.88421, -96.69716], [30.724779, -86.56888599999998], [33.88596, -118.19], [39.280897, -76.554547], [29.78667, -95.21868], [28.543195, -81.504861], [37.032166, -122.02251], [45.5699, -122.5509], [28.546887, -81.520374], [37.96906, -122.05862], [36.159391, -86.780963], [40.19403, -74.819924], [37.1765, -113.30407], [40.759033, -73.736132], [25.750424, -80.208453], [25.811356, -80.191288], [38.595333, -85.173875], [47.679593, -117.282679], [36.754844, -119.753959], [35.252541, -119.109874], [34.31263, -81.576887], [39.67633, -111.31462], [34.065102, -81.042867], [40.050983, -75.364974], [35.25698, -118.905255], [45.515479, -122.699651], [42.96545, -83.83140999999998], [34.861955, -82.251545], [25.90857, -80.175234], [29.673193, -90.815226], [32.587648, -93.830655], [39.18303, -84.47707], [44.06232, -123.08008999999998], [29.679975, -95.528423], [42.24800000000001, -88.37514], [35.759392, -78.731771], [34.14676, -118.27895], [25.671568, -80.432707], [36.37237800000001, -121.902408], [33.681901, -117.877292], [45.30325, -93.5549], [37.475545, -120.853586], [32.355983, -95.305408], [28.015726, -82.45504], [36.1044, -95.91726], [40.78121, -73.56371999999998], [37.933308, -122.06033], [39.260199, -104.892574], [40.844732, -73.922227], [33.885472, -80.350036], [47.46419, -122.21782], [33.310546, -117.479071], [28.553004, -81.389054], [42.969633, -85.672163], [37.732777, -120.99523], [38.87216, -104.71844], [44.819036, -117.614082], [34.007795, -85.090918], [37.68875, -122.135316], [33.5531, -112.11231], [42.658862, -122.696372], [37.24523, -121.841563], [38.033182, -121.621871], [33.313198, -79.996346], [35.47123, -82.8856], [38.50812, -121.458674], [34.01741, -117.34127], [41.493588, -94.677998], [40.884243, -111.892226], [37.584285, -120.968879], [38.53848, -121.47367], [32.723742, -117.1584], [36.14975, -86.77296899999996], [28.230046, -80.718502], [29.944581, -90.090561], [47.6247, -122.32814], [44.765012, -93.217458], [30.431179, -91.174523], [32.809362, -96.781589], [34.092662, -80.860567], [25.946072, -80.147246], [39.31531500000001, -120.441601], [42.513192, -73.569911], [38.945054, -94.77108], [35.29178, -80.72815], [40.254625, -75.35149799999998], [40.8465, -73.93208], [34.007690000000004, -118.28099], [34.07757, -117.209787], [34.018574, -80.965086], [34.030711, -117.585855], [36.804709, -78.566624], [34.067368, -117.564442], [28.76666, -80.89275], [36.916974, -118.241028], [30.4854, -91.16619], [40.251112, -75.65105799999998], [33.841707, -84.247699], [37.34022, -121.85131], [38.21224, -120.755935], [30.378494, -97.688319], [34.02261, -117.552951], [33.870228000000004, -117.669681], [38.924622, -76.853864], [37.06491, -113.584161], [40.772441, -74.032176], [39.113548, -94.564608], [37.720264, -120.094217], [42.34884, -83.103185], [37.183076, -77.487535], [32.937624, -96.748122], [37.69275, -121.919327], [42.4729, -122.81197], [25.600802, -80.35325999999998], [36.839762, -121.401987], [42.83824600000001, -74.01280200000002], [37.990271, -122.06743], [38.23665, -85.77838], [28.54376, -81.19468], [37.87423, -122.3059], [33.657712, -117.294187], [43.128638, -77.57236400000002], [29.716088, -95.538889], [39.401682, -76.568216], [32.92419, -96.775141], [33.44107, -112.034306], [34.068277, -117.400615], [42.97102, -78.76080999999998], [38.043649, -78.799042], [39.80277, -84.244734], [38.426913, -122.715135], [38.93442, -94.688984], [38.810644, -84.716319], [28.335167, -81.378124], [29.23617, -81.108891], [34.750261, -86.749762], [30.32639600000001, -81.679197], [33.841527, -78.64697], [33.760506, -117.972339], [32.925978, -96.834111], [28.450124, -81.438562], [41.046241, -76.00885699999998], [26.533879, -80.073604], [32.10713, -86.46405], [38.318071, -122.104601], [28.193024, -82.465576], [45.309067, -117.199268], [35.87255, -78.83162], [26.153395, -80.219687], [30.269018, -97.742475], [36.971815, -121.553925], [34.0305, -117.5886], [34.191022, -118.474147], [35.291325, -80.728388], [28.137785, -82.696516], [33.81458, -118.17928], [34.415637, -118.472078], [40.313811, -123.91626399999998], [42.390374, -122.919855], [25.941376, -80.229265], [33.857649, -118.285874], [39.94499, -76.214336], [41.751553, -72.656456], [38.966134, -94.543501], [38.658517, -121.362994], [28.527606, -81.31049499999997], [30.323509, -81.680524], [33.724492, -117.977374], [27.928222, -82.331188], [41.81244, -71.40697], [34.142368, -118.471571], [37.933101, -122.326205], [39.01983, -77.01333000000002], [35.521298, -93.870116], [34.16024, -118.46763], [38.685567, -77.228346], [29.939297, -95.331286], [44.459449, -95.472897], [42.15421, -87.95505], [40.017968, -75.35873199999997], [43.02856, -77.942065], [33.870691, -117.744847], [26.508196, -80.07459200000002], [46.77527, -93.61322], [33.908003, -84.23163000000002], [30.478345, -83.91581], [36.45623300000001, -119.481506], [41.646718, -73.7888], [34.39043, -118.476084], [34.194794, -80.907226], [47.726188, -122.292282], [32.692596, -117.121393], [35.780331, -78.74882], [25.71496, -80.378437], [39.46289, -121.579878], [28.467752, -81.330759], [33.77425, -118.07798], [41.494569, -83.377687], [40.49901, -74.3013], [32.702955, -117.145326], [28.259419, -81.43619100000002], [44.889975, -93.393284], [42.47567, -83.13786], [40.405306, -111.531694], [37.68594, -95.47938], [34.061933, -118.16312], [25.927764, -80.293387], [33.383297, -80.199074], [25.889555, -80.167928], [39.74234000000001, -84.16668], [32.349836, -97.195308], [36.167947, -86.77779699999998], [42.62185, -71.17713], [39.209271, -76.824678], [38.701294, -121.346478], [38.663467, -121.314285], [44.63675300000001, -75.074332], [39.95085, -74.98705], [33.879915999999994, -117.552519], [41.552222, -122.485], [37.552996, -77.443946], [40.78504, -74.20044], [34.011983, -117.821699], [35.231405, -80.970708], [42.917941, -83.50173000000002], [41.095014, -73.934308], [33.989469, -118.241166], [36.971815, -121.553925], [40.849031, -74.023224], [36.88275, -76.4309], [33.896977, -117.487142], [33.991069, -117.550277], [27.613756, -81.54711800000003], [26.675394, -81.814316], [32.833475, -96.780075], [39.00758, -94.693809], [40.04995, -76.25548], [38.821369, -84.600482], [37.82617, -122.27674], [36.851346, -120.055873], [28.036723, -82.078026], [48.238552, -114.33631499999998], [34.114740000000005, -117.97941000000002], [41.29149, -73.67747], [30.49176, -86.122614], [44.649392, -117.563248], [34.034467, -118.265984], [34.126809, -118.475349], [47.637911, -122.323246], [30.419433, -91.094823], [40.591961, -111.977301], [33.930997, -118.280952], [39.59574, -106.09388], [33.83892, -117.83422], [44.984287, -122.757797], [38.624682, -76.912239], [36.341092, -119.419494], [39.33973, -110.97669], [39.011074, -120.996594], [40.95968, -73.74068], [45.297248, -93.79192], [40.651634, -74.13704], [44.889734, -93.354822], [41.78398, -72.66006], [43.28356, -123.35597], [25.968747, -80.165592], [41.765072, -72.69094100000002], [45.91712, -123.93834], [38.677539, -121.195789], [40.024708, -75.22964], [30.337749, -91.01391], [41.67476, -74.1327], [37.445968, -77.63692900000002], [47.083262, -122.665345], [45.36959, -93.98348], [34.509044, -80.51351899999997], [38.673622, -121.720432], [35.550524, -121.084755], [32.498027, -93.756107], [45.509898, -122.707533], [36.853197, -80.862818], [25.863028, -80.322622], [37.162027, -121.990618], [45.290334, -93.555983], [35.849564, -78.583549], [34.067414, -117.576172], [25.899448, -80.292113], [25.686246, -80.416687], [25.898246, -80.309057], [28.097072, -81.951237], [33.7791, -117.888768], [40.406346, -80.003638], [47.38268, -94.6751], [37.72086, -121.93794], [36.09218, -95.92763], [40.57875, -111.89997], [38.48163, -121.42228], [33.563340999999994, -86.731814], [35.808874, -78.64881700000002], [41.77249000000001, -83.69537], [32.663643, -80.88466899999997], [38.02542, -121.951239], [33.457913, -112.335133], [30.805618, -83.35382299999998], [33.590965999999995, -112.116798], [35.81322, -78.845766], [33.991015999999995, -117.550296], [45.50835, -122.77851], [38.986479, -94.502449], [39.791373, -86.12571], [35.25689699999999, -117.985965], [39.874311, -86.047174], [45.700467, -94.891637], [47.892161, -92.775324], [34.022095, -117.551931], [33.707245, -112.116111], [45.34039, -118.0858], [40.90544000000001, -77.12021800000002], [26.964858000000003, -80.171817], [37.905833, -121.286822], [37.515113, -77.183438], [40.959724, -73.74063100000002], [37.576978, -122.32048600000002], [42.996071, -83.6537], [34.04058, -118.16967], [37.847718, -122.027775], [35.59472, -97.56718], [33.77449, -118.07048], [36.152485, -86.833844], [29.938815, -90.098002], [33.57354, -112.1172], [44.89143, -93.44354], [33.821656, -118.207014], [36.11235, -86.76704000000002], [38.012428, -120.285881], [25.692525, -80.30405], [38.689079, -77.789148], [27.924, -82.698608], [36.81032, -121.673301], [46.833955, -113.825794], [41.30367, -73.03426999999998], [34.786103000000004, -82.217106], [25.576225, -80.371783], [44.368854, -92.613598], [44.88416, -93.295458], [33.867427, -118.290029], [37.112942, -111.932026], [36.932214, -121.776025], [40.04705, -74.83194], [37.481936, -121.935607], [27.447334, -82.45903299999998], [32.323032, -90.247953], [42.38145, -83.06496], [38.778406, -121.267589], [30.433976, -91.113605], [41.66185, -112.12271], [40.78967, -74.04779], [36.820273, -119.720227], [46.655056, -92.366513], [42.241814, -88.004706], [33.567599, -84.324349], [41.07128400000001, -73.909444], [45.202396, -117.865579], [36.15877, -115.10042], [47.546912, -122.329602], [38.01491, -122.541495], [34.030393, -117.619599], [39.85474, -75.366366], [25.92675, -80.153746], [33.557092, -117.678978], [41.666818, -72.791537], [45.879569, -119.295437], [25.846146, -80.240804], [32.960346, -83.815158], [38.836766, -77.102018], [39.027501, -76.026259], [32.773093, -117.069268], [34.174188, -118.850338], [43.614487, -116.284139], [40.554875, -76.003633], [41.56916, -87.35596], [44.254386, -93.286827], [41.00055, -73.65276], [43.06443, -87.92083000000002], [41.88957, -93.194028], [33.963641, -117.324886], [39.76991500000001, -104.991313], [35.050177000000005, -85.296173], [33.930692, -118.364841], [33.772240000000004, -117.90885], [40.882142, -121.663042], [27.32225900000001, -82.46386899999997], [45.03557, -92.88343], [41.85197700000001, -87.93481700000002], [34.023514, -118.044087], [34.066512, -117.252429], [44.919277, -93.451026], [36.74279, -119.772399], [30.23912, -85.55677800000002], [34.865877000000005, -81.242547], [40.074681, -75.12945699999999], [30.292779, -97.665214], [45.51356, -122.68935], [38.706285, -121.383006], [36.894236, -76.42635600000001], [41.966561, -104.952296], [34.889928999999995, -82.29033000000003], [40.506879, -74.45571600000002], [39.566906, -76.141337], [42.76073, -73.757733], [38.55788, -121.448376], [35.236329, -80.759888], [25.762748, -80.31576], [35.26692, -80.84424], [37.70078, -122.02652], [37.991473, -122.12633999999998], [33.183377, -87.55774100000002], [32.686504, -97.320969], [28.496393, -81.39693100000002], [41.771897, -72.59974799999998], [25.810476, -80.162521], [33.167819, -87.528738], [42.978934, -77.234154], [37.516865, -77.255859], [35.155481, -80.851609], [34.023053999999995, -118.158614], [44.540847, -123.110088], [25.692472, -80.439006], [27.981548, -82.45384], [32.998949, -117.25697], [29.439225, -98.488152], [34.037581, -118.086252], [33.991492, -117.358359], [42.393963, -73.412102], [25.52895, -80.437164], [39.231391, -76.650251], [32.755747, -117.094365], [45.2521, -123.03479], [37.329563, -121.842291], [35.201454, -80.72327800000002], [28.663855, -82.146266], [33.57677, -112.01298], [34.508734999999994, -82.21462], [39.301532, -121.671249], [25.698611, -80.38217900000002], [25.714654, -80.41241600000002], [34.0643, -117.262944], [25.863028, -80.322622], [47.537407, -122.334723], [28.452368, -81.465038], [39.614285, -84.19868000000002], [30.097357, -81.8397], [38.679324, -121.378439], [25.654473, -80.41564], [34.887994, -82.154437], [38.603201, -121.382901], [32.837441, -96.632946], [33.567471999999995, -117.205913], [34.271839, -118.471917], [44.14504, -94.13568], [45.672191, -121.26311499999998], [34.270489000000005, -118.341943], [38.98817, -76.88926], [25.960566, -80.18862800000002], [40.51095, -107.385868], [45.040436, -93.096889], [38.638641, -121.456942], [32.277371, -89.945177], [29.622699, -95.240212], [44.95968, -93.20027], [28.549566, -81.382275], [33.366229, -80.60021400000002], [45.17519, -123.23963], [32.62157, -97.16709], [34.06565, -117.99678], [45.508674, -122.73658], [25.882806, -80.24524699999998], [37.25186, -121.95839], [44.86344, -123.00847], [45.113961, -121.340389], [40.654274, -73.56693100000003], [44.996312, -93.283244], [42.03882, -71.24531999999998], [34.524597, -81.916953], [37.598055, -120.964159], [46.121346, -123.237478], [28.306784000000004, -81.57002], [38.776447, -120.4625], [38.787564, -77.513802], [40.788598, -111.94905], [39.658119, -104.842718], [40.7371, -74.362045], [27.138366, -82.458246], [30.298047, -97.770244], [34.092224, -117.30202], [36.09315, -80.28430999999998], [37.352748, -76.73116], [34.125541, -118.146811], [34.864303, -118.168593], [39.92445, -75.19260200000002], [44.916562, -122.988741], [37.649466, -122.405099], [41.903249, -88.111491], [38.490642, -121.450697], [32.657643, -97.351156], [30.249699, -97.738454], [40.565702, -78.651314], [43.191786, -77.624643], [35.21410200000001, -80.82924799999998], [25.689166, -80.35015200000002], [29.402832, -82.244781], [39.08244000000001, -77.17222], [42.750483, -95.551261], [29.74917, -95.371], [35.130569, -80.758767], [39.72213, -104.82541], [43.580487, -96.728649], [33.719642, -117.971331], [35.050169, -81.801937], [35.059805, -111.684852], [42.24496, -85.56023], [39.70354, -86.07616], [37.419573, -120.764304], [34.87304, -118.89062], [41.94697, -87.85571], [41.883991, -72.317215], [26.62958900000001, -81.804682], [33.916286, -118.104625], [34.062746999999995, -78.883448], [37.699751, -121.790288], [34.03089, -118.19426], [34.136215, -117.435214], [29.135279, -82.078501], [34.926899, -78.942035], [35.227132, -78.642176], [41.76343, -72.63839], [33.966892, -118.155235], [32.693745, -97.23886], [38.562208, -121.487224], [43.391057, -124.220143], [37.480806, -122.404674], [33.055732, -80.238352], [37.54708, -77.44882], [37.052252, -120.568256], [40.244881, -75.59764], [36.149932, -86.748046], [34.341959, -118.527854], [33.902703, -117.463835], [45.360826, -122.761028], [39.26643, -84.35625999999998], [32.80039, -96.79298], [26.441469, -81.811051], [42.858406, -73.77447], [38.54359, -121.509186], [39.993099, -75.243802], [30.416408, -81.740011], [28.577874, -81.452623], [42.46896, -123.332482], [34.056463, -81.05447099999998], [37.399047, -77.673227], [44.95623, -93.1924], [36.964448, -121.551999], [35.551539, -78.214626], [45.493644, -122.67365], [40.72685, -73.97196], [36.85, -76.195882], [39.308191, -74.618657], [34.081848, -118.819124], [36.15313, -86.76451999999998], [38.916953, -76.961063], [33.974646, -118.28544], [44.09792, -123.15545], [34.154495000000004, -118.37796000000002], [28.979237, -80.86024599999998], [40.111047, -76.030138], [35.175643, -120.697581], [32.11974, -110.90934], [39.68174000000001, -104.94149], [39.835433, -86.344475], [44.951859000000006, -93.122295], [35.38194, -120.63125], [32.340070000000004, -83.76808], [37.52205, -77.41150999999998], [30.306772, -97.757684], [25.79848, -80.36919499999998], [33.876169, -79.759517], [35.16467, -111.672038], [35.0138, -85.53785], [32.7143, -117.131743], [33.53208, -112.15939], [27.971717, -82.610138], [41.728026, -72.61335799999998], [28.39792000000001, -80.75126], [25.847046, -80.20909300000002], [42.070219, -124.307681], [40.134194, -79.892752], [45.276558, -93.004813], [34.035354, -118.328901], [36.80808, -119.672994], [37.895418, -122.308123], [25.770374, -80.30731899999998], [35.296664, -119.34966599999998], [38.65581, -90.492554], [39.820944, -85.783385], [37.966946, -121.31867], [34.324647, -118.502322], [45.673052, -120.830436], [33.137501, -117.159458], [25.890143, -80.189184], [34.725927, -114.401654], [33.986894, -118.12417], [39.301861, -119.825466], [25.492013, -80.44889], [38.31433, -122.69438], [33.65785, -117.77778], [33.758070000000004, -117.85854], [42.418856, -73.472569], [45.34844, -122.64523], [37.400191, -120.850174], [29.749163, -95.368505], [37.33375, -122.05064], [39.171295, -123.21142], [33.878885, -118.191744], [40.215209, -74.569621], [36.140234, -86.722248], [33.884582, -118.264956], [31.760607, -106.268853], [38.830871, -77.398352], [40.290287, -123.898948], [38.15518, -121.67643], [34.038232, -117.383254], [41.414874, -77.04275], [33.970455, -117.375253], [25.824188, -80.230639], [32.768794, -117.143343], [39.03297, -84.59344], [33.6805, -117.852283], [38.146082, -77.505769], [38.418878, -122.71598600000002], [33.1935, -117.365112], [33.996908000000005, -117.061222], [33.8978, -117.27513], [38.87706, -76.9635], [34.903539, -91.23198], [25.878809, -80.356696], [42.467607, -73.609729], [34.063573, -117.286574], [33.891715000000005, -117.646811], [28.60762, -81.256703], [38.989581, -94.552244], [27.744767, -82.6686], [29.252005, -81.074689], [41.56762, -87.34267], [38.965362, -77.180746], [34.040398, -118.272565], [37.159731, -93.313811], [25.824092, -80.206452], [42.655524, -114.478751], [40.143596, -74.955874], [31.723846, -106.308717], [32.780349, -96.777261], [45.37237, -122.59076], [45.75807800000001, -122.87811], [41.525249, -86.00133000000002], [40.959938, -76.620594], [33.123262, -97.035198], [34.034495, -118.267158], [40.18532, -75.424148], [42.344311, -87.93649], [44.862736, -93.425135], [27.32286, -82.52971], [29.960986, -90.008273], [25.767921, -80.352972], [46.403835, -120.27919], [41.44989, -75.63795], [40.84585, -74.42923], [40.134032, -74.96526300000002], [41.813704, -83.44676199999998], [40.040004, -76.287339], [37.42586, -122.19247], [39.53979, -84.29816], [40.21236, -74.7561], [35.27735999999999, -80.798592], [39.24325, -104.87855], [26.230490000000003, -80.13426], [37.355114, -122.062085], [45.384619, -120.789105], [30.140316, -91.824547], [40.426986, -80.02228199999998], [45.054999, -93.187779], [44.861797, -93.107668], [46.656877, -112.04859], [29.375885, -98.393791], [40.488675, -82.353871], [38.155807, -122.411094], [43.036177, -77.719016], [36.80413, -121.783808], [34.525138, -83.05566400000002], [34.15201, -118.14068], [34.136471, -117.561239], [37.374812, -77.406502], [38.56789000000001, -121.50853], [39.39077, -77.4174], [36.140973, -120.162028], [39.698871, -86.107095], [39.282916, -76.486631], [33.17479, -117.34943], [39.958208, -75.165667], [47.674022, -117.245804], [28.41162000000001, -80.829237], [43.26895, -123.35656000000002], [39.873508, -75.094881], [44.05887, -123.10104], [35.02057, -85.260251], [35.827622, -78.70342099999998], [42.883262, -83.927627], [33.41537, -111.5634], [40.705524, -111.903573], [41.87608, -87.66223000000002], [39.971001, -75.56933199999997], [42.49445, -83.1172], [40.934252, -74.591346], [33.908303000000004, -117.882817], [40.74062, -73.8992], [33.462103000000006, -112.060691], [34.150946999999995, -118.15058799999998], [43.225511, -75.456546], [39.50194000000001, -75.04191], [39.055574, -94.56116], [28.06896, -82.35282], [35.73052, -78.650859], [43.600884, -91.275175], [38.989818, -77.157206], [39.11543, -84.50003000000002], [37.613812, -77.49461], [38.626033, -121.328453], [28.59856, -82.204996], [34.1365, -117.503443], [34.094789, -118.205974], [32.49852, -89.914763], [44.283171, -124.10915], [25.87919, -80.323615], [33.612223, -117.704958], [39.671312, -94.234662], [39.490286, -121.530494], [33.984320000000004, -118.252091], [39.377821, -77.26146999999997], [33.740821000000004, -80.89474399999997], [38.60939000000001, -121.269227], [36.969904, -76.41712700000002], [37.189718, -121.99248500000002], [36.140601, -86.732024], [40.445877, -74.424959], [37.012743, -81.105417], [34.377719, -118.493741], [42.897804, -84.08398299999998], [40.650755, -74.749613], [41.85426, -87.93176], [35.547798, -118.615447], [38.827847, -77.455587], [47.610058, -122.33102], [44.063682, -123.049693], [33.87272, -118.273174], [35.78377800000001, -78.699298], [41.57186, -87.14373], [32.705126, -96.832609], [34.10049, -118.2484], [38.443379, -121.404129], [41.22769, -95.95889], [42.121003, -73.955714], [37.453408, -77.441749], [25.670763, -80.455184], [32.831509999999994, -96.78069], [42.759738, -71.231348], [34.530168, -111.947475], [28.492993, -81.243117], [25.837921, -80.206035], [37.550326, -77.353181], [37.665945, -79.508107], [38.642456, -121.384857], [34.028659999999995, -118.21612], [37.347527, -77.351168], [33.95328, -118.08998], [39.264, -84.60464], [38.524886, -121.467778], [25.704529, -80.366353], [40.183913, -75.445927], [28.332851, -81.48057299999998], [45.789771, -118.266725], [45.414869, -122.7439], [45.53875, -122.67005], [43.964565, -75.871492], [27.874687, -82.662992], [38.547367, -121.351327], [35.186654, -80.732333], [36.76571, -119.77786], [36.641421, -119.808846], [40.192485, -75.15293199999998], [37.43156, -77.43123], [33.912734, -117.887144], [28.524115, -81.349522], [29.588244, -95.483393], [32.77285, -96.797689], [40.68315, -75.28201999999997], [29.72906, -95.532537], [44.543756, -93.300951], [33.366066, -84.179537], [38.005207, -120.40287], [41.184729, -79.785], [33.931315999999995, -117.288803], [39.746216, -84.139613], [29.735461, -95.520887], [40.180724, -76.53339], [38.022005, -78.540499], [30.654584000000003, -91.193016], [41.98331, -87.74911999999998], [30.607279, -84.584347], [40.27553, -76.81744], [38.805242, -77.16929499999998], [38.598239, -121.41528], [33.93079, -118.37012], [32.7326, -97.37609], [32.924138, -117.23883700000002], [34.026474, -81.102112], [29.860491, -95.262482], [42.841346, -78.79278000000002], [39.87312, -74.92185], [37.882935, -120.404253], [40.624415, -75.28278399999998], [36.95749, -113.787974], [39.584294, -76.097824], [38.436334, -82.027227], [29.957490000000004, -90.118683], [35.103518, -80.98904], [30.40323, -86.975993], [38.496002, -121.428941], [41.817668, -80.866321], [35.001714, -80.855855], [26.52138, -80.1725], [34.21817, -79.389308], [44.95905, -92.98476], [30.2319, -92.53466], [25.68611, -80.390957], [28.743222, -81.286464], [39.916416, -75.023426], [26.332168, -81.806139], [37.866221, -122.205905], [42.573406, -121.881972], [40.253616, -76.818519], [42.37802, -83.21289], [25.685494, -80.350941], [34.063098, -117.22404], [47.46234000000001, -122.25001], [30.315246, -81.75974699999998], [36.784458, -76.105276], [32.250335, -110.984382], [25.824106, -80.234724], [25.804478, -80.25465200000002], [39.99683, -74.99288], [33.866075, -117.99738], [42.35689, -83.07951], [46.382529, -95.642359], [34.095626, -118.601087], [35.109686, -118.43241299999998], [40.22836, -74.69886], [40.100573, -75.153508], [34.318081, -112.123814], [42.368913, -83.216425], [43.07663, -75.619336], [41.86771, -72.66255], [43.637718, -95.633587], [30.459057, -81.57895400000002], [40.089204, -123.798669], [28.557726, -81.206978], [33.56756, -112.10826000000002], [44.85854000000001, -93.346334], [32.872015999999995, -80.01139599999998], [36.12384, -86.74825], [34.306108, -118.431784], [41.758614, -124.19721], [33.626929, -117.271918], [37.188066, -93.262304], [36.157629, -86.770912], [33.649181, -84.369217], [34.856509, -79.99598399999998], [41.662625, -93.478843], [45.276358, -122.77233], [37.721622, -122.445852], [29.733675, -95.501313], [47.68779, -122.32726], [33.88192100000001, -117.582493], [34.010593, -117.882719], [38.185241, -85.508444], [37.01012, -119.7939], [46.822462, -95.856516], [40.68066, -74.00313], [33.939409999999995, -80.794813], [34.239054, -118.899261], [33.908505, -84.429777], [41.832952, -78.58700999999998], [42.97522, -83.72576], [33.810501, -117.50905], [25.95118900000001, -80.18063199999997], [33.972487, -118.073568], [40.21903, -75.296674], [32.167817, -110.985777], [32.817135, -96.79373], [42.984883, -85.677571], [28.449889, -81.476171], [35.79037299999999, -78.548429], [33.02483400000001, -117.078498], [37.977043, -121.261757], [32.776833, -117.16245], [42.868019, -78.830026], [34.028152, -117.717695], [33.98849000000001, -117.90568], [48.095299, -114.212578], [40.67773, -74.19707], [37.337054, -121.995573], [35.00087, -81.98899], [45.276557, -93.004814], [33.998539, -118.147216], [42.482682, -73.67791], [44.767087, -93.034726], [34.17111, -118.52184], [33.011752, -80.337633], [29.942851, -90.093635], [38.873189, -121.131638], [34.222748, -80.699043], [30.445219, -87.245388], [42.32011, -88.01321999999998], [33.46161, -112.107793], [36.492092, -119.521815], [33.941497, -118.012161], [36.485149, -119.223176], [34.163644, -118.626263], [28.001856, -82.505167], [37.366761, -79.92375], [34.077183000000005, -118.282008], [33.778124, -87.273937], [35.24252, -80.844365], [33.91192, -117.44718], [33.54557, -86.5474], [37.959772, -122.330645], [39.7873, -104.98933999999998], [35.201193, -78.67154000000002], [39.8204, -104.97849], [38.55615, -121.44319], [33.065559, -117.069221], [26.599587, -81.641798], [36.88063, -76.20863299999998], [32.683305, -96.617267], [40.72633, -73.51444000000002], [29.70357000000001, -95.61465], [32.871093, -96.770108], [44.889774, -93.353227], [33.974843, -81.221572], [44.0971, -123.12824], [42.38782, -83.01626], [38.668581, -121.372426], [36.890917, -119.792585], [25.59848, -80.358147], [40.67041, -111.901271], [27.88286, -82.654963], [40.00897, -75.06812], [44.436205, -121.93722], [38.63139, -121.50444], [40.370703000000006, -104.989219], [34.845188, -92.349325], [33.917951, -84.338199], [40.246812, -75.678821], [33.942440000000005, -117.87335], [39.01985, -76.41466], [32.306540000000005, -81.86697], [34.004162, -117.407969], [39.14964000000001, -112.395061], [38.36974, -122.712789], [33.041877, -80.766098], [34.173157, -118.535976], [44.44876, -121.19941], [33.365055, -111.911235], [34.657467, -117.43886100000002], [25.785602, -80.214287], [34.24064, -119.18506200000002], [41.99504, -87.86606], [40.72574, -112.0119], [33.825927, -118.245302], [34.067686, -117.601038], [35.075853, -81.219088], [26.265081, -80.12903299999998], [44.97056, -93.35128], [33.923958, -118.29953700000002], [40.76198, -74.00108], [39.77506, -104.85718], [25.775833, -80.353713], [33.903556, -118.185367], [43.003146, -78.183153], [38.887621, -76.961899], [34.894485, -120.425201], [38.16885300000001, -79.00823199999998], [37.562176, -121.905152], [37.146006, -93.42881], [35.28505999999999, -80.76299], [37.607321, -122.066959], [39.94027, -75.010367], [43.111199, -75.19981700000002], [38.96817, -94.7762], [41.17968, -79.24685], [34.68192, -87.59083000000004], [46.749094, -113.706822], [33.990938, -117.90527], [41.156963, -112.024444], [34.327903000000006, -119.10594], [25.901241, -80.18698499999998], [43.25011, -73.67075], [40.83833, -73.88243], [36.90290200000001, -121.74882], [35.173595, -82.457012], [36.16620800000001, -86.764741], [27.828385, -82.672946], [35.182586, -89.820311], [33.397868, -117.59436200000002], [38.83664, -77.00803], [28.167502, -81.440216], [45.14549, -122.88658999999998], [36.752223, -80.77668100000002], [33.459791, -81.101069], [33.99561, -117.355672], [43.894809, -117.011358], [35.849815, -78.580396], [39.100003, -75.454662], [37.95603, -121.323132], [33.096567, -117.087251], [37.168325, -113.407863], [40.115464, -79.772258], [36.520961, -119.282471], [38.376049, -87.714876], [37.896459, -122.104495], [41.67042, -72.94303000000002], [32.855540000000005, -79.98916], [32.728861, -117.155102], [33.919697, -84.332095], [39.191271, -121.003497], [26.085103, -80.168299], [26.551503000000004, -81.90539100000002], [44.00809, -123.02101], [42.40096, -71.15233], [34.099046, -117.834258], [35.980492, -85.01039300000002], [38.7261, -90.33206], [37.544585, -77.42813199999998], [28.568955, -81.207835], [30.496486, -91.146945], [25.927231, -80.293364], [41.87451, -87.70675], [30.427469, -91.084104], [36.08127, -115.26314], [26.182748, -80.152419], [28.2319, -82.29706999999998], [30.030002000000003, -89.99378], [44.85791, -93.298016], [27.893901, -82.719418], [32.837755, -97.101825], [32.76475, -117.15684], [27.7036, -80.89527], [39.50416, -106.145982], [37.034818, -76.35480799999998], [34.89754, -82.34004], [34.030653, -117.616214], [26.260533, -80.133313], [25.935059, -80.216013], [41.607035, -73.67660699999998], [26.946814, -82.34925799999998], [42.15419, -71.06818], [37.661307, -77.473501], [39.90025, -75.62579000000002], [32.893927000000005, -96.76927], [37.220669, -121.864531], [25.892058, -80.163016], [41.69724, -88.04433], [34.36518, -118.50363], [38.62871, -90.316], [40.377746, -75.98795], [34.08166, -117.704204], [39.355891, -94.764257], [40.204238, -75.540128], [34.650244, -118.128957], [27.36719, -82.54271], [29.156067, -82.131579], [32.909427, -96.719634], [40.422031, -120.69673], [38.656125, -76.875052], [44.180563, -121.24461200000002], [38.587926, -121.766911], [36.813556, -76.09933000000002], [40.67487, -74.00064], [27.895477000000003, -82.795461], [38.28742, -121.45876], [30.442162, -91.110789], [32.802873, -96.626514], [26.935, -82.01723], [39.418741, -77.48083199999998], [42.369262, -71.064012], [37.621146, -77.444289], [30.541423, -87.312889], [39.79267, -75.11484], [33.392533, -80.541756], [40.454288, -111.914001], [34.176578000000006, -118.307953], [39.607247, -75.727553], [43.013867, -74.928442], [33.008749, -111.749559], [35.087884, -80.936273], [45.10193, -93.45663], [43.026158, -88.086943], [38.681901, -77.229567], [34.062069, -118.215162], [30.66458, -87.050377], [25.761067, -80.41328100000001], [28.851592, -81.625551], [45.603816, -121.182754]],\n",
       "                {&quot;blur&quot;: 15, &quot;maxZoom&quot;: 18, &quot;minOpacity&quot;: 0.5, &quot;radius&quot;: 25}\n",
       "            ).addTo(map_d62061d9b4aad1a34386fc2624cfe32d);\n",
       "        \n",
       "&lt;/script&gt;\" style=\"position:absolute;width:100%;height:100%;left:0;top:0;border:none !important;\" allowfullscreen webkitallowfullscreen mozallowfullscreen></iframe></div></div>"
      ],
      "text/plain": [
       "<folium.folium.Map at 0x2887e947130>"
      ]
     },
     "execution_count": 42,
     "metadata": {},
     "output_type": "execute_result"
    }
   ],
   "source": [
    "map = folium.Map()\n",
    "HeatMap(lat_lon_pairs).add_to(map)\n",
    "map"
   ]
  },
  {
   "cell_type": "markdown",
   "metadata": {},
   "source": [
    "## Summary and Conclusion\n",
    "\n",
    "\n",
    "Insights:\n",
    "- No data from New York\n",
    "- The number of accidents per city decreases exponentially\n",
    "- Less than 5% of cities have more than 1000 yearly accidents.\n",
    "- Over 1200 cities have reported just one accident (need to investigate)"
   ]
  }
 ],
 "metadata": {
  "interpreter": {
   "hash": "b3ba2566441a7c06988d0923437866b63cedc61552a5af99d1f4fb67d367b25f"
  },
  "kernelspec": {
   "display_name": "Python 3.9.7 ('base')",
   "language": "python",
   "name": "python3"
  },
  "language_info": {
   "codemirror_mode": {
    "name": "ipython",
    "version": 3
   },
   "file_extension": ".py",
   "mimetype": "text/x-python",
   "name": "python",
   "nbconvert_exporter": "python",
   "pygments_lexer": "ipython3",
   "version": "3.9.7"
  },
  "orig_nbformat": 4
 },
 "nbformat": 4,
 "nbformat_minor": 2
}
